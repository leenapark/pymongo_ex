{
 "cells": [
  {
   "cell_type": "markdown",
   "id": "376803e6-69d2-4968-9c85-938e9b5e31b9",
   "metadata": {},
   "source": [
    "# bs4 데이터 수집, mongo DB 연동"
   ]
  },
  {
   "cell_type": "markdown",
   "id": "cc7cadf8-d2f4-4b13-9e04-798f5d94cfa1",
   "metadata": {},
   "source": [
    "### 데이터 수집을 위한 분석\n",
    "#### 데이터 수집 할 주제\n",
    "- 영화 배우 정보\n",
    "\n",
    "#### 수집 데이터\n",
    "- 정보 사이트\n",
    "    - 메인 페이지\n",
    "        - http://www.cine21.com/rank/person\n",
    "    - 해당 배우 세부 정보\n",
    "        - http://www.cine21.com/db/person/info/?person_id=71827\n",
    "- 항목 \n",
    "    - 메인 페이지 : 이름(2)편 -> 이름, 흥행 지수\n",
    "    - 세부 페이지 : 배우 기본 정보(항목, 값), 참여 작품\n",
    "#### 수집, 데이터 저장 DB\n",
    "- mongoDB : 정형화 되지 않은 데이터\n",
    "- pymongo : python 연동\n",
    "\n",
    "#### 수집 도구 : library\n",
    "- requests\n",
    "- bs4"
   ]
  },
  {
   "cell_type": "markdown",
   "id": "19392563-f662-4b93-97a1-d8f7f6aec07c",
   "metadata": {},
   "source": [
    "### 데이터 수집을 위한 절차 정리\n",
    "\n",
    "#### request url\n",
    "- \"http://www.cine21.com/rank/person\"\n",
    "- \"http://www.cine21.com/db/person/info/?person_id=71827\"\n",
    "\n",
    "\n",
    "#### 작업 순서\n",
    "- 필요한 라이브러리 import\n",
    "- url request\n",
    "- response url 객체 생성(parsing / html.parsor)\n",
    "- 원하는 데이터 pattern 파악\n",
    "- select로 원하는 데이터 추출\n",
    "- 반복문으로 원하는 데이터 변형\n",
    "    - 항목 : 이름, 흥행지수, 이름에 링크된 url\n",
    "    - 이름에 링크된 url 활용하여 request 날리기\n",
    "    - 응답 받아서 세부 정보 추출\n",
    "        - 배우 기본 정보, 참여 작품"
   ]
  },
  {
   "cell_type": "code",
   "execution_count": 226,
   "id": "df89679e-54d2-42db-831c-71991faa0300",
   "metadata": {
    "tags": []
   },
   "outputs": [],
   "source": [
    "import requests as req\n",
    "import re\n",
    "from bs4 import BeautifulSoup as bs\n",
    "import pymongo"
   ]
  },
  {
   "cell_type": "code",
   "execution_count": 227,
   "id": "785f84ed-d7ec-4395-940a-8c7fd0b4b2e6",
   "metadata": {
    "tags": []
   },
   "outputs": [],
   "source": [
    "url = \"http://www.cine21.com/rank/person\""
   ]
  },
  {
   "cell_type": "code",
   "execution_count": 228,
   "id": "cb25a3f5-571c-47d9-a715-02b776f6dedd",
   "metadata": {
    "tags": []
   },
   "outputs": [],
   "source": [
    "res = req.get(url)"
   ]
  },
  {
   "cell_type": "code",
   "execution_count": 229,
   "id": "11df7770-eacb-4645-9676-7bcbfa0b9634",
   "metadata": {
    "tags": []
   },
   "outputs": [],
   "source": [
    "soup = bs(res.text, \"html.parser\")"
   ]
  },
  {
   "cell_type": "code",
   "execution_count": 230,
   "id": "733790c6-68a8-46e2-a1f3-7bf97f40f3b8",
   "metadata": {
    "tags": []
   },
   "outputs": [],
   "source": [
    "# actor_li = soup.select(\".people_list people_li\")\n",
    "actor_li = soup.select(\"#rank_holder\")"
   ]
  },
  {
   "cell_type": "code",
   "execution_count": 231,
   "id": "5159c371-4bd1-4da7-9fc6-cbf04f18809f",
   "metadata": {
    "tags": []
   },
   "outputs": [
    {
     "name": "stdout",
     "output_type": "stream",
     "text": [
      "<div id=\"rank_holder\"></div>\n"
     ]
    }
   ],
   "source": [
    "for actor in actor_li:\n",
    "    print(actor)"
   ]
  },
  {
   "cell_type": "markdown",
   "id": "91936496-8c1d-4b7c-acb6-eb0fdc373047",
   "metadata": {},
   "source": [
    "section: actor\n",
    "period_start: 2023-04\n",
    "gender: all\n",
    "page: 1"
   ]
  },
  {
   "cell_type": "markdown",
   "id": "32ab9220-c12c-4cb7-b87c-3d4eb4d13d52",
   "metadata": {},
   "source": [
    "### 데이터 요청 수정\n",
    "- actor에 대한 정보는 비동기 방식으로 처리\n",
    "- method : post\n",
    "- url : http://www.cine21.com/rank/person/content\n",
    "- 비동기 정보\n",
    "    - section: actor\n",
    "    - period_start: 2023-04 : 시작일\n",
    "    - gender: all\n",
    "    - page: 1 : paging"
   ]
  },
  {
   "cell_type": "code",
   "execution_count": 298,
   "id": "fef6b356-2c8f-4377-88d1-55745ce0c2aa",
   "metadata": {
    "tags": []
   },
   "outputs": [
    {
     "name": "stdout",
     "output_type": "stream",
     "text": [
      "http://www.cine21.com/rank/person/content\n"
     ]
    }
   ],
   "source": [
    "cine21_url = \"http://www.cine21.com/rank/person/content\" # post netword url\n",
    "# print(cine21_url)"
   ]
  },
  {
   "cell_type": "code",
   "execution_count": 238,
   "id": "520b2be2-acef-4769-81a9-96eee532524f",
   "metadata": {
    "tags": []
   },
   "outputs": [],
   "source": [
    "start_month = \"2023-04\"\n",
    "url_de = \"http://www.cine21.com/\""
   ]
  },
  {
   "cell_type": "code",
   "execution_count": 239,
   "id": "c6c72ca8-e6fa-4cba-905b-56a6804ed4ac",
   "metadata": {
    "tags": []
   },
   "outputs": [],
   "source": [
    "# post network 에서 가져온 옵션값 저장\n",
    "cdts = {}\n",
    "cdts[\"section\"] = \"actor\"\n",
    "cdts[\"period_start\"] = start_month\n",
    "cdts[\"gender\"] = \"all\"\n",
    "cdts[\"page\"] = 1"
   ]
  },
  {
   "cell_type": "code",
   "execution_count": 240,
   "id": "34f54985-1188-402d-a67f-92b4eebb0446",
   "metadata": {
    "tags": []
   },
   "outputs": [],
   "source": [
    "res = req.post(cine21_url, data=cdts)"
   ]
  },
  {
   "cell_type": "code",
   "execution_count": 241,
   "id": "4683d706-4820-4c62-90ec-ef591e4ecbe1",
   "metadata": {
    "tags": []
   },
   "outputs": [],
   "source": [
    "soup = bs(res.text, \"html.parser\")"
   ]
  },
  {
   "cell_type": "code",
   "execution_count": 248,
   "id": "248e2f93-dd4a-41eb-bdfb-49f7c6903624",
   "metadata": {
    "tags": []
   },
   "outputs": [
    {
     "name": "stdout",
     "output_type": "stream",
     "text": [
      "안재홍\n",
      "http://www.cine21.com//db/person/info/?person_id=4883\n",
      "79451\n",
      "------------------------------\n",
      "이신영\n",
      "http://www.cine21.com//db/person/info/?person_id=113283\n",
      "68100\n",
      "------------------------------\n",
      "박서준\n",
      "http://www.cine21.com//db/person/info/?person_id=84745\n",
      "66234\n",
      "------------------------------\n",
      "아이유\n",
      "http://www.cine21.com//db/person/info/?person_id=71827\n",
      "59612\n",
      "------------------------------\n",
      "정진운\n",
      "http://www.cine21.com//db/person/info/?person_id=71801\n",
      "57437\n",
      "------------------------------\n",
      "김종수\n",
      "http://www.cine21.com//db/person/info/?person_id=65628\n",
      "52989\n",
      "------------------------------\n",
      "김보라\n",
      "http://www.cine21.com//db/person/info/?person_id=73838\n",
      "49772\n",
      "------------------------------\n"
     ]
    }
   ],
   "source": [
    "actor_li = soup.select(\".people_list .people_li\")\n",
    "# print(actor_li)\n",
    "for actor in actor_li:\n",
    "    # print(actor)\n",
    "    # 배우 이름\n",
    "    name = actor.select_one(\".name\").get_text(strip=True).split(\"(\")[0]\n",
    "    print(name)\n",
    "    \n",
    "    # 배우 이름 a 태그 href 속성값 url\n",
    "    actor_url = actor.select_one(\".name a\").attrs[\"href\"]\n",
    "    actor_url = url_de + actor_url\n",
    "    print(actor_url)\n",
    "    \n",
    "    # 흥행 지수 : int 형으로 바꿈\n",
    "    indices = actor.select_one(\".tit+strong\").get_text(strip=True).replace(\",\", \"\")\n",
    "    print(indices)\n",
    "    print(\"-\"*30)\n",
    "    \n",
    "    # test = actor.select_one(\"a img.thumb\").attrs[\"src\"]\n",
    "    # print(test)    \n",
    "    # test = actor.select_one(\"a img.thumb\")[\"src\"]\n",
    "    # print(test)\n",
    "\n"
   ]
  },
  {
   "cell_type": "markdown",
   "id": "c7f42a82-1fda-46c3-ba83-2748ecdd8349",
   "metadata": {},
   "source": [
    "## 세부 정보 수집\n",
    "- 기본 정보 : key, value 같이 수집 - dict()\n",
    "- 참여 작품 : value만 수집 - list()"
   ]
  },
  {
   "cell_type": "code",
   "execution_count": 275,
   "id": "fceaac21-f87a-45d7-af9c-afe3837e1e2e",
   "metadata": {
    "tags": []
   },
   "outputs": [],
   "source": [
    "actor_link = \"http://www.cine21.com//db/person/info/?person_id=71827\""
   ]
  },
  {
   "cell_type": "code",
   "execution_count": 276,
   "id": "6b0ec48e-6c62-4bce-975a-0f381128716d",
   "metadata": {
    "tags": []
   },
   "outputs": [
    {
     "name": "stdout",
     "output_type": "stream",
     "text": [
      "<Response [200]>\n"
     ]
    }
   ],
   "source": [
    "res_sub = req.get(actor_link)\n",
    "print(res_sub)\n",
    "soup_sub = bs(res_sub.text, \"html.parser\")\n",
    "# print(soup)"
   ]
  },
  {
   "cell_type": "markdown",
   "id": "f3a1c282-61fe-400d-9116-cba41868633c",
   "metadata": {},
   "source": [
    "<!-- 기본정보 -->\n",
    "<div class=\"default_info_area\">\n",
    "<h2><span>기본정보</span></h2>\n",
    "<ul class=\"default_info\">\n",
    "<li><span class=\"tit\">다른 이름</span>이지은</li>\n",
    "<li><span class=\"tit\">직업</span>가수</li>\n",
    "<li><span class=\"tit\">생년월일</span>1993-05-16</li>\n",
    "<li><span class=\"tit\">성별</span>여</li>\n",
    "<li><span class=\"tit\">홈페이지</span>\n",
    "<a href=\"https://twitter.com/lily199iu\" target=\"_blank\">https://twitter.com/lily199iu</a><br/>\n",
    "<a href=\"https://www.instagram.com/dlwlrma/\" target=\"_blank\">https://www.instagram.com/dlwlrma/</a><br/>\n",
    "</li>\n",
    "<li><span class=\"tit\">학교</span>동덕여자고등학교</li>\n",
    "</ul>\n",
    "</div>\n",
    "<!-- //기본정보 -->"
   ]
  },
  {
   "cell_type": "code",
   "execution_count": 264,
   "id": "a8a7bb91-b79b-4bc9-9e72-f12a10eb4964",
   "metadata": {
    "tags": []
   },
   "outputs": [],
   "source": [
    "info_area = soup_sub.select(\".default_info_area .default_info li\")"
   ]
  },
  {
   "cell_type": "code",
   "execution_count": 261,
   "id": "450132d4-5390-4360-8263-65124b6d8a63",
   "metadata": {
    "tags": []
   },
   "outputs": [
    {
     "name": "stdout",
     "output_type": "stream",
     "text": [
      "{'다른 이름': '이지은', '홈페이지': ['https://twitter.com/lily199iu', 'https://www.instagram.com/dlwlrma/'], '직업': '가수', '생년월일': '1993-05-16', '성별': '여', '학교': '동덕여자고등학교'}\n"
     ]
    }
   ],
   "source": [
    "actor_info_dict = {}\n",
    "homepList = []\n",
    "for info in info_area:\n",
    "    homepage = info.select(\"li a\")\n",
    "    # 예외 상황\n",
    "    # value의 2가지 상황\n",
    "    # li span, li span+a\n",
    "    # 직업\n",
    "    # 생년월일\n",
    "    # 성별\n",
    "    \n",
    "    if info.select_one(\"li span+a\") == None:\n",
    "        # 기본 정보\n",
    "        # 다른 이름\n",
    "        key = info.select_one(\"li span.tit\").get_text(strip=True)\n",
    "        # print(key)\n",
    "        # value = info.get_text(strip=True)\n",
    "        # print(value)\n",
    "        value = info.strings # list 로 넘겨줌\n",
    "        value = list(value)[1]\n",
    "        # print(value)\n",
    "        actor_info_dict[key] = value\n",
    "    \n",
    "\n",
    "    # 홈페이지\n",
    "    for home in homepage:\n",
    "        homepage = home.attrs[\"href\"]\n",
    "        homepList.append(homepage)\n",
    "    actor_info_dict[\"홈페이지\"] = homepList\n",
    "    \n",
    "    # print(info.select_one(\"li span+a\") == None)\n",
    "print(actor_info_dict)\n",
    "    "
   ]
  },
  {
   "cell_type": "code",
   "execution_count": 270,
   "id": "aa0dd77f-2601-4a70-8c38-de99969a6675",
   "metadata": {
    "tags": []
   },
   "outputs": [
    {
     "name": "stdout",
     "output_type": "stream",
     "text": [
      "{'다른 이름': '이지은', '직업': '가수', '생년월일': '1993-05-16', '성별': '여', '홈페이지': 'https://twitter.com/lily199iu', '학교': '동덕여자고등학교'}\n"
     ]
    }
   ],
   "source": [
    "default_infos = soup_sub.select(\"ul.default_info li\")\n",
    "# print(default_infos)\n",
    "\n",
    "actor_info_dict = {}\n",
    "for d_info in default_infos:\n",
    "    # print(d_info)\n",
    "    # 직업 : 배우, 생년월일 : 1986-03-31 , .....\n",
    "    key = d_info.select_one(\"span.tit\").get_text(strip=True)\n",
    "    # print(key)\n",
    "    \n",
    "    # value의 두가지 case : li span, li span + a\n",
    "    \"\"\"\n",
    "    value = d_info.select_one(\"li span + a\") => None, None 아닌 경우\n",
    "    if value None 경우:\n",
    "        value = list(d_info.strings)[-1]\n",
    "    else:\n",
    "        # a 태그의 href 속성의 값 추출\n",
    "        value = value.attrs[href]\n",
    "    \"\"\" \n",
    "    value = d_info.select_one(\"li span + a\")\n",
    "    if value is None:\n",
    "        # d_info.strings : 목록형으로 리턴함, list()로 형변환\n",
    "        value = list(d_info.strings)[-1]\n",
    "        # print(value)\n",
    "    else:\n",
    "        value = value.attrs[\"href\"]\n",
    "\n",
    "        # print(value)\n",
    "\n",
    "    # d_info.strings : 목록형으로 리턴함, list()로 형변환\n",
    "    # value = list(d_info.strings)[-1]\n",
    "    # print(value)\n",
    "    actor_info_dict[key] = value\n",
    "    # print(actor_info_dict)\n",
    "# print(\"-\"*30)\n",
    "print(actor_info_dict)\n",
    "    "
   ]
  },
  {
   "cell_type": "code",
   "execution_count": 267,
   "id": "430392b6-3924-4fe2-bb05-bcec14e43735",
   "metadata": {
    "tags": []
   },
   "outputs": [
    {
     "name": "stdout",
     "output_type": "stream",
     "text": [
      "[['http://www.cine21.com//movie/info/?movie_id=55390', '드림', '(2023)'], ['http://www.cine21.com//movie/info/?movie_id=56800', '브로커', '(2022)'], ['http://www.cine21.com//db/tv/info/?tv_id=22398', '[스페셜] 아이유 인터뷰', '(2020)']]\n"
     ]
    }
   ],
   "source": [
    "part_work = soup_sub.select(\"ul.part_works li\")\n",
    "# print(part_work)\n",
    "# actor_work_dict = {}\n",
    "workList = []\n",
    "for work in part_work:\n",
    "    # print(work)\n",
    "    # 영화 링크\n",
    "    movie_link = work.select_one(\"li a\").attrs[\"href\"]\n",
    "    movie_link = url_de + movie_link\n",
    "    # print(movie_link)\n",
    "    \n",
    "    # 영화 제목\n",
    "    work_name = work.select_one(\"span.tit\").get_text(strip=True)\n",
    "    \n",
    "    # 개봉년도\n",
    "    work_year = work.select_one(\"span.year\").get_text(strip=True)\n",
    "    \n",
    "    workList.append([movie_link, work_name, work_year])\n",
    "print(workList)\n",
    "    "
   ]
  },
  {
   "cell_type": "markdown",
   "id": "dc161ed1-56e9-49a1-99d1-0d21871443f1",
   "metadata": {},
   "source": [
    "### 새로운 배우 데이터 수집"
   ]
  },
  {
   "cell_type": "code",
   "execution_count": 273,
   "id": "19f5fe14-54e9-434b-a9e4-6fab7deea9c6",
   "metadata": {
    "tags": []
   },
   "outputs": [
    {
     "name": "stdout",
     "output_type": "stream",
     "text": [
      "{'다른 이름': '이지은', '홈페이지': ['https://twitter.com/lily199iu', 'https://www.instagram.com/dlwlrma/'], '직업': '가수', '생년월일': '1993-05-16', '성별': '여', '학교': '동덕여자고등학교'}\n",
      "[['http://www.cine21.com//movie/info/?movie_id=55390', '드림', '(2023)'], ['http://www.cine21.com//movie/info/?movie_id=56800', '브로커', '(2022)'], ['http://www.cine21.com//db/tv/info/?tv_id=22398', '[스페셜] 아이유 인터뷰', '(2020)']]\n"
     ]
    }
   ],
   "source": [
    "actor_info_dict = {}\n",
    "homepList = []\n",
    "for info in info_area:\n",
    "    homepage = info.select(\"li a\")\n",
    "    # 기본 정보\n",
    "    if info.select_one(\"li span+a\") == None:\n",
    "        key = info.select_one(\"li span.tit\").get_text(strip=True)\n",
    "        value = info.strings # list 로 넘겨줌\n",
    "        value = list(value)[1]\n",
    "        actor_info_dict[key] = value\n",
    "\n",
    "    # 홈페이지\n",
    "    for home in homepage:\n",
    "        homepage = home.attrs[\"href\"]\n",
    "        homepList.append(homepage)\n",
    "    actor_info_dict[\"홈페이지\"] = homepList\n",
    "    \n",
    "print(actor_info_dict)\n",
    "\n",
    "part_work = soup_sub.select(\"ul.part_works li\")\n",
    "workList = []\n",
    "for work in part_work:\n",
    "    # 영화 링크\n",
    "    movie_link = work.select_one(\"li a\").attrs[\"href\"]\n",
    "    movie_link = url_de + movie_link\n",
    "    \n",
    "    # 영화 제목\n",
    "    work_name = work.select_one(\"span.tit\").get_text(strip=True)\n",
    "    \n",
    "    # 개봉년도\n",
    "    work_year = work.select_one(\"span.year\").get_text(strip=True)\n",
    "    \n",
    "    workList.append([movie_link, work_name, work_year])\n",
    "print(workList)\n",
    "    "
   ]
  },
  {
   "cell_type": "markdown",
   "id": "badf4105-e062-4655-ae7f-c32ad8bfa4d3",
   "metadata": {},
   "source": [
    "### 데이터 수집 코드 완료 후 해야할 것\n",
    "- main page, 상세 정보 실행 통합 코드 생성\n",
    "- mongoDB 저장하기 위한 데이터 자료 구조 생성\n",
    "- mongoDB 저장 코드 생성\n",
    "    - mongoDB 생성 : movies\n",
    "    - collection 생성 : actors_info\n",
    "    - Document 입력 : dict()"
   ]
  },
  {
   "cell_type": "code",
   "execution_count": 293,
   "id": "52122af8-f271-4891-8278-ebe620ebea03",
   "metadata": {
    "tags": []
   },
   "outputs": [],
   "source": [
    "conn = pymongo.MongoClient('mongodb://localhost:27017')\n",
    "\n",
    "# movies DB생성\n",
    "movies = conn.movies\n",
    "\n",
    "# actors_info 컬렉션 생성\n",
    "actors_info = movies.actors_info"
   ]
  },
  {
   "cell_type": "code",
   "execution_count": 283,
   "id": "f0dd3b63-61a2-40b3-a2d4-ba32aa7a208c",
   "metadata": {
    "tags": []
   },
   "outputs": [
    {
     "name": "stdout",
     "output_type": "stream",
     "text": [
      "안재홍\n",
      "http://www.cine21.com//db/person/info/?person_id=4883\n",
      "79451\n",
      "------------------------------\n",
      "이신영\n",
      "http://www.cine21.com//db/person/info/?person_id=113283\n",
      "68100\n",
      "------------------------------\n",
      "박서준\n",
      "http://www.cine21.com//db/person/info/?person_id=84745\n",
      "66234\n",
      "------------------------------\n",
      "아이유\n",
      "http://www.cine21.com//db/person/info/?person_id=71827\n",
      "59612\n",
      "------------------------------\n",
      "정진운\n",
      "http://www.cine21.com//db/person/info/?person_id=71801\n",
      "57437\n",
      "------------------------------\n",
      "김종수\n",
      "http://www.cine21.com//db/person/info/?person_id=65628\n",
      "52989\n",
      "------------------------------\n",
      "김보라\n",
      "http://www.cine21.com//db/person/info/?person_id=73838\n",
      "49772\n",
      "------------------------------\n",
      "{'직업': '배우', '홈페이지': ['https://www.instagram.com/aahnjaehong/', 'https://www.instagram.com/leesin_y/', 'https://www.instagram.com/bn_sj2013/', 'https://twitter.com/bn_sj2013', 'https://twitter.com/lily199iu', 'https://www.instagram.com/dlwlrma/', 'https://twitter.com/2amjinwoon', 'https://www.facebook.com/jinwoon.jeong', 'https://instagram.com/jinwoon52', 'http://www.artistcompany.co.kr/portfolio-item/kim-jong-soo/', 'http://instagram.com/kim_bora95'], '생년월일': '1995-09-28', '성별': '여', '다른 이름': '2am; 진운', '학교': '대진대학교 연극영화학', '신장/체중': '161cm', '취미': '악기다루기', '특기': '기타, 베이스, 드럼 연주, 농구', '소속사': '아티스트컴퍼니'}\n",
      "[['http://www.cine21.com//movie/info/?movie_id=60178', '리바운드', '(2022)'], ['http://www.cine21.com//movie/info/?movie_id=58718', '하이파이브', '(2021)'], ['http://www.cine21.com//movie/info/?movie_id=57060', '울렁울렁 울렁대는 가슴안고', '(2020)'], ['http://www.cine21.com//db/tv/info/?tv_id=24430', '낭만닥터 김사부 3', '(2023)'], ['http://www.cine21.com//db/tv/info/?tv_id=23303', '너와 나의 경찰수업', '(2022)'], ['http://www.cine21.com//movie/info/?movie_id=60178', '리바운드', '(2022)'], ['http://www.cine21.com//db/tv/info/?tv_id=24276', '서진이네', '(2023)'], ['http://www.cine21.com//movie/info/?movie_id=55390', '드림', '(2023)'], ['http://www.cine21.com//movie/info/?movie_id=60369', '더 마블스', '(2023)'], ['http://www.cine21.com//movie/info/?movie_id=55390', '드림', '(2023)'], ['http://www.cine21.com//movie/info/?movie_id=56800', '브로커', '(2022)'], ['http://www.cine21.com//db/tv/info/?tv_id=22398', '[스페셜] 아이유 인터뷰', '(2020)'], ['http://www.cine21.com//movie/info/?movie_id=60178', '리바운드', '(2022)'], ['http://www.cine21.com//db/tv/info/?tv_id=23608', '스타일 美 시즌3', '(2022)'], ['http://www.cine21.com//db/tv/info/?tv_id=24266', '스타일 美 시즌4', '(2022)'], ['http://www.cine21.com//movie/info/?movie_id=55390', '드림', '(2023)'], ['http://www.cine21.com//db/tv/info/?tv_id=24431', '어쩌다 마주친, 그대', '(2023)'], ['http://www.cine21.com//movie/info/?movie_id=57907', '헌트', '(2022)'], ['http://www.cine21.com//db/tv/info/?tv_id=24423', '핀란드 파파', '(2023)'], ['http://www.cine21.com//movie/info/?movie_id=60317', '옥수역귀신', '(2022)'], ['http://www.cine21.com//db/tv/info/?tv_id=23287', '러브씬넘버#', '(2021)']]\n"
     ]
    }
   ],
   "source": [
    "cine21_url = \"http://www.cine21.com/rank/person/content\" # post netword url\n",
    "\n",
    "start_month = \"2023-04\"\n",
    "url_de = \"http://www.cine21.com/\"\n",
    "\n",
    "# post network 에서 가져온 옵션값 저장\n",
    "cdts = {}\n",
    "cdts[\"section\"] = \"actor\"\n",
    "cdts[\"period_start\"] = start_month\n",
    "cdts[\"gender\"] = \"all\"\n",
    "cdts[\"page\"] = 1\n",
    "\n",
    "res = req.post(cine21_url, data=cdts)\n",
    "\n",
    "soup = bs(res.text, \"html.parser\")\n",
    "\n",
    "actor_li = soup.select(\".people_list .people_li\")\n",
    "for actor in actor_li:\n",
    "    actor_info_doc={}\n",
    "    # print(actor)\n",
    "    # 배우 이름\n",
    "    name = actor.select_one(\".name\").get_text(strip=True).split(\"(\")[0]\n",
    "    print(name)\n",
    "    \n",
    "    # 배우 이름 a 태그 href 속성값 url\n",
    "    actor_url = actor.select_one(\".name a\").attrs[\"href\"]\n",
    "    actor_url = url_de + actor_url\n",
    "    print(actor_url)\n",
    "    \n",
    "    # 흥행 지수 : int 형으로 바꿈\n",
    "    indices = actor.select_one(\".tit+strong\").get_text(strip=True).replace(\",\", \"\")\n",
    "    print(indices)\n",
    "    \n",
    "    print(\"-\"*30)    \n",
    "    \n",
    "    # 배우의 상세 페이지\n",
    "    actor_link = actor_url\n",
    "    res_sub = req.get(actor_link)\n",
    "    soup_sub = bs(res_sub.text, \"html.parser\")\n",
    "    \n",
    "    info_area = soup_sub.select(\".default_info_area .default_info li\")\n",
    "    \n",
    "    actor_info_dict = {}\n",
    "    homepList = []\n",
    "    for info in info_area:\n",
    "        homepage = info.select(\"li a\")\n",
    "        # 기본 정보\n",
    "        if info.select_one(\"li span+a\") == None:\n",
    "            key = info.select_one(\"li span.tit\").get_text(strip=True)\n",
    "            value = info.strings # list 로 넘겨줌\n",
    "            value = list(value)[1]\n",
    "            actor_info_dict[key] = value\n",
    "\n",
    "        # 홈페이지\n",
    "        for home in homepage:\n",
    "            homepage = home.attrs[\"href\"]\n",
    "            homepList.append(homepage)\n",
    "        actor_info_dict[\"홈페이지\"] = homepList\n",
    "\n",
    "\n",
    "\n",
    "    part_work = soup_sub.select(\"ul.part_works li\")\n",
    "    workList = []\n",
    "    for work in part_work:\n",
    "        # 영화 링크\n",
    "        movie_link = work.select_one(\"li a\").attrs[\"href\"]\n",
    "        movie_link = url_de + movie_link\n",
    "\n",
    "        # 영화 제목\n",
    "        work_name = work.select_one(\"span.tit\").get_text(strip=True)\n",
    "\n",
    "        # 개봉년도\n",
    "        work_year = work.select_one(\"span.year\").get_text(strip=True)\n",
    "\n",
    "        workList.append([movie_link, work_name, work_year])\n",
    "print(actor_info_dict)\n",
    "print(workList)\n",
    "    \n",
    "    "
   ]
  },
  {
   "cell_type": "markdown",
   "id": "d8a6fc50-facd-4a14-a444-f7fa0ad2c6ac",
   "metadata": {},
   "source": [
    "## mongoDB 저장하기 위한 데이터 변환\n",
    "- mongoDB : json -> dict() 자료 구조 만들기\n",
    "- Document로 저장하기 위해 key 정하기\n",
    "- 메인 페이지\n",
    "    - actor : 배우명\n",
    "    - actor_url : 상세 페이지 url\n",
    "    - indices : 흥행 지수\n",
    "    - start_period : 데이터 누적 기간\n",
    "- 상세 페이지\n",
    "    - info : 배우 기본 정보\n",
    "    - movie_list : 참여 작품"
   ]
  },
  {
   "cell_type": "code",
   "execution_count": 291,
   "id": "e90ec23c-f5eb-4653-acb0-ce1b59124a62",
   "metadata": {
    "tags": []
   },
   "outputs": [
    {
     "name": "stdout",
     "output_type": "stream",
     "text": [
      "[{'actor': '안재홍', 'actor_url': 'http://www.cine21.com//db/person/info/?person_id=4883', 'indices': '79451', 'start_period': '2023-04', 'info': {'직업': '배우', '홈페이지': ['https://www.instagram.com/aahnjaehong/'], '생년월일': '1986-03-31', '성별': '남'}, 'movie_list': [['http://www.cine21.com//movie/info/?movie_id=60178', '리바운드', '(2022)'], ['http://www.cine21.com//movie/info/?movie_id=58718', '하이파이브', '(2021)'], ['http://www.cine21.com//movie/info/?movie_id=57060', '울렁울렁 울렁대는 가슴안고', '(2020)']]}, {'actor': '이신영', 'actor_url': 'http://www.cine21.com//db/person/info/?person_id=113283', 'indices': '68100', 'start_period': '2023-04', 'info': {'직업': '배우', '홈페이지': ['https://www.instagram.com/leesin_y/'], '생년월일': '1998-01-24', '성별': '남'}, 'movie_list': [['http://www.cine21.com//db/tv/info/?tv_id=24430', '낭만닥터 김사부 3', '(2023)'], ['http://www.cine21.com//db/tv/info/?tv_id=23303', '너와 나의 경찰수업', '(2022)'], ['http://www.cine21.com//movie/info/?movie_id=60178', '리바운드', '(2022)']]}, {'actor': '박서준', 'actor_url': 'http://www.cine21.com//db/person/info/?person_id=84745', 'indices': '66234', 'start_period': '2023-04', 'info': {'직업': '배우', '홈페이지': ['https://www.instagram.com/bn_sj2013/', 'https://twitter.com/bn_sj2013'], '생년월일': '1988-12-16', '성별': '남'}, 'movie_list': [['http://www.cine21.com//movie/info/?movie_id=60369', '더 마블스', '(2023)'], ['http://www.cine21.com//db/tv/info/?tv_id=24276', '서진이네', '(2023)'], ['http://www.cine21.com//movie/info/?movie_id=55390', '드림', '(2023)']]}, {'actor': '아이유', 'actor_url': 'http://www.cine21.com//db/person/info/?person_id=71827', 'indices': '59612', 'start_period': '2023-04', 'info': {'다른 이름': '이지은', '홈페이지': ['https://twitter.com/lily199iu', 'https://www.instagram.com/dlwlrma/'], '직업': '가수', '생년월일': '1993-05-16', '성별': '여', '학교': '동덕여자고등학교'}, 'movie_list': [['http://www.cine21.com//movie/info/?movie_id=55390', '드림', '(2023)'], ['http://www.cine21.com//movie/info/?movie_id=56800', '브로커', '(2022)'], ['http://www.cine21.com//db/tv/info/?tv_id=22611', '2020 추석특집 나무야 나무야', '(2020)']]}, {'actor': '정진운', 'actor_url': 'http://www.cine21.com//db/person/info/?person_id=71801', 'indices': '57437', 'start_period': '2023-04', 'info': {'다른 이름': '2am; 진운', '홈페이지': ['https://twitter.com/2amjinwoon', 'https://www.facebook.com/jinwoon.jeong', 'https://instagram.com/jinwoon52'], '직업': '가수', '생년월일': '1991-05-02', '성별': '남', '신장/체중': '185cm, 72kg', '학교': '대진대학교 연극영화학', '취미': '악기다루기', '특기': '기타, 베이스, 드럼 연주, 농구', '소속사': 'JYP엔터테인먼트'}, 'movie_list': [['http://www.cine21.com//db/tv/info/?tv_id=23608', '스타일 美 시즌3', '(2022)'], ['http://www.cine21.com//db/tv/info/?tv_id=24266', '스타일 美 시즌4', '(2022)'], ['http://www.cine21.com//movie/info/?movie_id=59481', '오! 마이 고스트', '(2022)']]}, {'actor': '김종수', 'actor_url': 'http://www.cine21.com//db/person/info/?person_id=65628', 'indices': '52989', 'start_period': '2023-04', 'info': {'직업': '배우', '홈페이지': ['http://www.artistcompany.co.kr/portfolio-item/kim-jong-soo/'], '생년월일': '1964-11-30', '성별': '남', '소속사': '아티스트컴퍼니'}, 'movie_list': [['http://www.cine21.com//db/tv/info/?tv_id=24431', '어쩌다 마주친, 그대', '(2023)'], ['http://www.cine21.com//movie/info/?movie_id=55390', '드림', '(2023)'], ['http://www.cine21.com//movie/info/?movie_id=57907', '헌트', '(2022)']]}, {'actor': '김보라', 'actor_url': 'http://www.cine21.com//db/person/info/?person_id=73838', 'indices': '49772', 'start_period': '2023-04', 'info': {'직업': '배우', '홈페이지': ['http://instagram.com/kim_bora95'], '생년월일': '1995-09-28', '성별': '여', '신장/체중': '161cm'}, 'movie_list': [['http://www.cine21.com//db/tv/info/?tv_id=24423', '핀란드 파파', '(2023)'], ['http://www.cine21.com//movie/info/?movie_id=60317', '옥수역귀신', '(2022)'], ['http://www.cine21.com//db/tv/info/?tv_id=23287', '러브씬넘버#', '(2021)']]}]\n"
     ]
    }
   ],
   "source": [
    "cine21_url = \"http://www.cine21.com/rank/person/content\" # post netword url\n",
    "\n",
    "start_month = \"2023-04\"\n",
    "url_de = \"http://www.cine21.com/\"\n",
    "\n",
    "# post network 에서 가져온 옵션값 저장\n",
    "cdts = {}\n",
    "cdts[\"section\"] = \"actor\"\n",
    "cdts[\"period_start\"] = start_month\n",
    "cdts[\"gender\"] = \"all\"\n",
    "cdts[\"page\"] = 1\n",
    "\n",
    "res = req.post(cine21_url, data=cdts)\n",
    "\n",
    "soup = bs(res.text, \"html.parser\")\n",
    "docsList = [] # 전체 리스트\n",
    "actor_li = soup.select(\".people_list .people_li\")\n",
    "for actor in actor_li:\n",
    "    actor_info_doc={}\n",
    "    # print(actor)\n",
    "    # 배우 이름\n",
    "    name = actor.select_one(\".name\").get_text(strip=True).split(\"(\")[0]\n",
    "    # print(name)\n",
    "    \n",
    "    # 배우 이름 a 태그 href 속성값 url\n",
    "    actor_url = actor.select_one(\".name a\").attrs[\"href\"]\n",
    "    actor_url = url_de + actor_url\n",
    "    # print(actor_url)\n",
    "    \n",
    "    # 흥행 지수 : int 형으로 바꿈\n",
    "    indices = actor.select_one(\".tit+strong\").get_text(strip=True).replace(\",\", \"\")\n",
    "    # print(indices)\n",
    "    \n",
    "   \n",
    "    \n",
    "    # 배우의 상세 페이지\n",
    "    actor_link = actor_url\n",
    "    res_sub = req.get(actor_link)\n",
    "    soup_sub = bs(res_sub.text, \"html.parser\")\n",
    "    \n",
    "    info_area = soup_sub.select(\".default_info_area .default_info li\")\n",
    "    \n",
    "    actor_info_dict = {}\n",
    "    homepList = []\n",
    "    for info in info_area:\n",
    "        homepage = info.select(\"li a\")\n",
    "        # 기본 정보\n",
    "        if info.select_one(\"li span+a\") == None:\n",
    "            key = info.select_one(\"li span.tit\").get_text(strip=True)\n",
    "            value = info.strings # list 로 넘겨줌\n",
    "            value = list(value)[1]\n",
    "            actor_info_dict[key] = value\n",
    "\n",
    "        # 홈페이지\n",
    "        for home in homepage:\n",
    "            homepage = home.attrs[\"href\"]\n",
    "            homepList.append(homepage)\n",
    "        actor_info_dict[\"홈페이지\"] = homepList\n",
    "\n",
    "\n",
    "\n",
    "    part_work = soup_sub.select(\"ul.part_works li\")\n",
    "    workList = [] # 참여 작품\n",
    "    for work in part_work:\n",
    "        # 영화 링크\n",
    "        movie_link = work.select_one(\"li a\").attrs[\"href\"]\n",
    "        movie_link = url_de + movie_link\n",
    "\n",
    "        # 영화 제목\n",
    "        work_name = work.select_one(\"span.tit\").get_text(strip=True)\n",
    "\n",
    "        # 개봉년도\n",
    "        work_year = work.select_one(\"span.year\").get_text(strip=True)\n",
    "\n",
    "        workList.append([movie_link, work_name, work_year])\n",
    "# print(actor_info_dict)\n",
    "# print(workList)\n",
    "    \n",
    "    \n",
    "\n",
    "    # 한 배우에 대한 data부터 만들어보기 : dict()\n",
    "\n",
    "    actor_info_doc[\"actor\"] = name\n",
    "    actor_info_doc[\"actor_url\"] = actor_url\n",
    "    actor_info_doc[\"indices\"] = indices\n",
    "    actor_info_doc[\"start_period\"] = start_month\n",
    "    actor_info_doc[\"info\"] = actor_info_dict\n",
    "    actor_info_doc[\"movie_list\"] = workList\n",
    "\n",
    "    # print(actor_info_doc)\n",
    "    # print(\"-\"*30)\n",
    "    docsList.append(actor_info_doc)\n",
    "print(docsList)"
   ]
  },
  {
   "cell_type": "code",
   "execution_count": 292,
   "id": "e0439014-8aa8-49c4-9293-021c432f6be0",
   "metadata": {
    "tags": []
   },
   "outputs": [
    {
     "data": {
      "text/plain": [
       "[{'actor': '안재홍',\n",
       "  'actor_url': 'http://www.cine21.com//db/person/info/?person_id=4883',\n",
       "  'indices': '79451',\n",
       "  'start_period': '2023-04',\n",
       "  'info': {'직업': '배우',\n",
       "   '홈페이지': ['https://www.instagram.com/aahnjaehong/'],\n",
       "   '생년월일': '1986-03-31',\n",
       "   '성별': '남'},\n",
       "  'movie_list': [['http://www.cine21.com//movie/info/?movie_id=60178',\n",
       "    '리바운드',\n",
       "    '(2022)'],\n",
       "   ['http://www.cine21.com//movie/info/?movie_id=58718', '하이파이브', '(2021)'],\n",
       "   ['http://www.cine21.com//movie/info/?movie_id=57060',\n",
       "    '울렁울렁 울렁대는 가슴안고',\n",
       "    '(2020)']]},\n",
       " {'actor': '이신영',\n",
       "  'actor_url': 'http://www.cine21.com//db/person/info/?person_id=113283',\n",
       "  'indices': '68100',\n",
       "  'start_period': '2023-04',\n",
       "  'info': {'직업': '배우',\n",
       "   '홈페이지': ['https://www.instagram.com/leesin_y/'],\n",
       "   '생년월일': '1998-01-24',\n",
       "   '성별': '남'},\n",
       "  'movie_list': [['http://www.cine21.com//db/tv/info/?tv_id=24430',\n",
       "    '낭만닥터 김사부 3',\n",
       "    '(2023)'],\n",
       "   ['http://www.cine21.com//db/tv/info/?tv_id=23303', '너와 나의 경찰수업', '(2022)'],\n",
       "   ['http://www.cine21.com//movie/info/?movie_id=60178', '리바운드', '(2022)']]},\n",
       " {'actor': '박서준',\n",
       "  'actor_url': 'http://www.cine21.com//db/person/info/?person_id=84745',\n",
       "  'indices': '66234',\n",
       "  'start_period': '2023-04',\n",
       "  'info': {'직업': '배우',\n",
       "   '홈페이지': ['https://www.instagram.com/bn_sj2013/',\n",
       "    'https://twitter.com/bn_sj2013'],\n",
       "   '생년월일': '1988-12-16',\n",
       "   '성별': '남'},\n",
       "  'movie_list': [['http://www.cine21.com//movie/info/?movie_id=60369',\n",
       "    '더 마블스',\n",
       "    '(2023)'],\n",
       "   ['http://www.cine21.com//db/tv/info/?tv_id=24276', '서진이네', '(2023)'],\n",
       "   ['http://www.cine21.com//movie/info/?movie_id=55390', '드림', '(2023)']]},\n",
       " {'actor': '아이유',\n",
       "  'actor_url': 'http://www.cine21.com//db/person/info/?person_id=71827',\n",
       "  'indices': '59612',\n",
       "  'start_period': '2023-04',\n",
       "  'info': {'다른 이름': '이지은',\n",
       "   '홈페이지': ['https://twitter.com/lily199iu',\n",
       "    'https://www.instagram.com/dlwlrma/'],\n",
       "   '직업': '가수',\n",
       "   '생년월일': '1993-05-16',\n",
       "   '성별': '여',\n",
       "   '학교': '동덕여자고등학교'},\n",
       "  'movie_list': [['http://www.cine21.com//movie/info/?movie_id=55390',\n",
       "    '드림',\n",
       "    '(2023)'],\n",
       "   ['http://www.cine21.com//movie/info/?movie_id=56800', '브로커', '(2022)'],\n",
       "   ['http://www.cine21.com//db/tv/info/?tv_id=22611',\n",
       "    '2020 추석특집 나무야 나무야',\n",
       "    '(2020)']]},\n",
       " {'actor': '정진운',\n",
       "  'actor_url': 'http://www.cine21.com//db/person/info/?person_id=71801',\n",
       "  'indices': '57437',\n",
       "  'start_period': '2023-04',\n",
       "  'info': {'다른 이름': '2am; 진운',\n",
       "   '홈페이지': ['https://twitter.com/2amjinwoon',\n",
       "    'https://www.facebook.com/jinwoon.jeong',\n",
       "    'https://instagram.com/jinwoon52'],\n",
       "   '직업': '가수',\n",
       "   '생년월일': '1991-05-02',\n",
       "   '성별': '남',\n",
       "   '신장/체중': '185cm, 72kg',\n",
       "   '학교': '대진대학교 연극영화학',\n",
       "   '취미': '악기다루기',\n",
       "   '특기': '기타, 베이스, 드럼 연주, 농구',\n",
       "   '소속사': 'JYP엔터테인먼트'},\n",
       "  'movie_list': [['http://www.cine21.com//db/tv/info/?tv_id=23608',\n",
       "    '스타일 美 시즌3',\n",
       "    '(2022)'],\n",
       "   ['http://www.cine21.com//db/tv/info/?tv_id=24266', '스타일 美 시즌4', '(2022)'],\n",
       "   ['http://www.cine21.com//movie/info/?movie_id=59481',\n",
       "    '오! 마이 고스트',\n",
       "    '(2022)']]},\n",
       " {'actor': '김종수',\n",
       "  'actor_url': 'http://www.cine21.com//db/person/info/?person_id=65628',\n",
       "  'indices': '52989',\n",
       "  'start_period': '2023-04',\n",
       "  'info': {'직업': '배우',\n",
       "   '홈페이지': ['http://www.artistcompany.co.kr/portfolio-item/kim-jong-soo/'],\n",
       "   '생년월일': '1964-11-30',\n",
       "   '성별': '남',\n",
       "   '소속사': '아티스트컴퍼니'},\n",
       "  'movie_list': [['http://www.cine21.com//db/tv/info/?tv_id=24431',\n",
       "    '어쩌다 마주친, 그대',\n",
       "    '(2023)'],\n",
       "   ['http://www.cine21.com//movie/info/?movie_id=55390', '드림', '(2023)'],\n",
       "   ['http://www.cine21.com//movie/info/?movie_id=57907', '헌트', '(2022)']]},\n",
       " {'actor': '김보라',\n",
       "  'actor_url': 'http://www.cine21.com//db/person/info/?person_id=73838',\n",
       "  'indices': '49772',\n",
       "  'start_period': '2023-04',\n",
       "  'info': {'직업': '배우',\n",
       "   '홈페이지': ['http://instagram.com/kim_bora95'],\n",
       "   '생년월일': '1995-09-28',\n",
       "   '성별': '여',\n",
       "   '신장/체중': '161cm'},\n",
       "  'movie_list': [['http://www.cine21.com//db/tv/info/?tv_id=24423',\n",
       "    '핀란드 파파',\n",
       "    '(2023)'],\n",
       "   ['http://www.cine21.com//movie/info/?movie_id=60317', '옥수역귀신', '(2022)'],\n",
       "   ['http://www.cine21.com//db/tv/info/?tv_id=23287', '러브씬넘버#', '(2021)']]}]"
      ]
     },
     "execution_count": 292,
     "metadata": {},
     "output_type": "execute_result"
    }
   ],
   "source": [
    "docsList"
   ]
  },
  {
   "cell_type": "code",
   "execution_count": 294,
   "id": "85ee5877-8e8d-4114-803b-d54c2bcf5e2c",
   "metadata": {
    "tags": []
   },
   "outputs": [
    {
     "data": {
      "text/plain": [
       "<pymongo.results.InsertManyResult at 0x1c31fda2550>"
      ]
     },
     "execution_count": 294,
     "metadata": {},
     "output_type": "execute_result"
    }
   ],
   "source": [
    "actors_info.insert_many(docsList)"
   ]
  },
  {
   "cell_type": "markdown",
   "id": "91865811-d6a0-4089-aae0-a97a532e0c4d",
   "metadata": {},
   "source": [
    "## mongoDB 조회"
   ]
  },
  {
   "cell_type": "code",
   "execution_count": 295,
   "id": "e84fd2b3-3408-4b1a-95cf-d398096bac9a",
   "metadata": {
    "tags": []
   },
   "outputs": [
    {
     "name": "stdout",
     "output_type": "stream",
     "text": [
      "{'_id': ObjectId('645b36a889b7565412185c18'), 'actor': '안재홍', 'actor_url': 'http://www.cine21.com//db/person/info/?person_id=4883', 'indices': '79451', 'start_period': '2023-04', 'info': {'직업': '배우', '홈페이지': ['https://www.instagram.com/aahnjaehong/'], '생년월일': '1986-03-31', '성별': '남'}, 'movie_list': [['http://www.cine21.com//movie/info/?movie_id=60178', '리바운드', '(2022)'], ['http://www.cine21.com//movie/info/?movie_id=58718', '하이파이브', '(2021)'], ['http://www.cine21.com//movie/info/?movie_id=57060', '울렁울렁 울렁대는 가슴안고', '(2020)']]}\n",
      "{'_id': ObjectId('645b36a889b7565412185c19'), 'actor': '이신영', 'actor_url': 'http://www.cine21.com//db/person/info/?person_id=113283', 'indices': '68100', 'start_period': '2023-04', 'info': {'직업': '배우', '홈페이지': ['https://www.instagram.com/leesin_y/'], '생년월일': '1998-01-24', '성별': '남'}, 'movie_list': [['http://www.cine21.com//db/tv/info/?tv_id=24430', '낭만닥터 김사부 3', '(2023)'], ['http://www.cine21.com//db/tv/info/?tv_id=23303', '너와 나의 경찰수업', '(2022)'], ['http://www.cine21.com//movie/info/?movie_id=60178', '리바운드', '(2022)']]}\n",
      "{'_id': ObjectId('645b36a889b7565412185c1a'), 'actor': '박서준', 'actor_url': 'http://www.cine21.com//db/person/info/?person_id=84745', 'indices': '66234', 'start_period': '2023-04', 'info': {'직업': '배우', '홈페이지': ['https://www.instagram.com/bn_sj2013/', 'https://twitter.com/bn_sj2013'], '생년월일': '1988-12-16', '성별': '남'}, 'movie_list': [['http://www.cine21.com//movie/info/?movie_id=60369', '더 마블스', '(2023)'], ['http://www.cine21.com//db/tv/info/?tv_id=24276', '서진이네', '(2023)'], ['http://www.cine21.com//movie/info/?movie_id=55390', '드림', '(2023)']]}\n",
      "{'_id': ObjectId('645b36a889b7565412185c1b'), 'actor': '아이유', 'actor_url': 'http://www.cine21.com//db/person/info/?person_id=71827', 'indices': '59612', 'start_period': '2023-04', 'info': {'다른 이름': '이지은', '홈페이지': ['https://twitter.com/lily199iu', 'https://www.instagram.com/dlwlrma/'], '직업': '가수', '생년월일': '1993-05-16', '성별': '여', '학교': '동덕여자고등학교'}, 'movie_list': [['http://www.cine21.com//movie/info/?movie_id=55390', '드림', '(2023)'], ['http://www.cine21.com//movie/info/?movie_id=56800', '브로커', '(2022)'], ['http://www.cine21.com//db/tv/info/?tv_id=22611', '2020 추석특집 나무야 나무야', '(2020)']]}\n",
      "{'_id': ObjectId('645b36a889b7565412185c1c'), 'actor': '정진운', 'actor_url': 'http://www.cine21.com//db/person/info/?person_id=71801', 'indices': '57437', 'start_period': '2023-04', 'info': {'다른 이름': '2am; 진운', '홈페이지': ['https://twitter.com/2amjinwoon', 'https://www.facebook.com/jinwoon.jeong', 'https://instagram.com/jinwoon52'], '직업': '가수', '생년월일': '1991-05-02', '성별': '남', '신장/체중': '185cm, 72kg', '학교': '대진대학교 연극영화학', '취미': '악기다루기', '특기': '기타, 베이스, 드럼 연주, 농구', '소속사': 'JYP엔터테인먼트'}, 'movie_list': [['http://www.cine21.com//db/tv/info/?tv_id=23608', '스타일 美 시즌3', '(2022)'], ['http://www.cine21.com//db/tv/info/?tv_id=24266', '스타일 美 시즌4', '(2022)'], ['http://www.cine21.com//movie/info/?movie_id=59481', '오! 마이 고스트', '(2022)']]}\n",
      "{'_id': ObjectId('645b36a889b7565412185c1d'), 'actor': '김종수', 'actor_url': 'http://www.cine21.com//db/person/info/?person_id=65628', 'indices': '52989', 'start_period': '2023-04', 'info': {'직업': '배우', '홈페이지': ['http://www.artistcompany.co.kr/portfolio-item/kim-jong-soo/'], '생년월일': '1964-11-30', '성별': '남', '소속사': '아티스트컴퍼니'}, 'movie_list': [['http://www.cine21.com//db/tv/info/?tv_id=24431', '어쩌다 마주친, 그대', '(2023)'], ['http://www.cine21.com//movie/info/?movie_id=55390', '드림', '(2023)'], ['http://www.cine21.com//movie/info/?movie_id=57907', '헌트', '(2022)']]}\n",
      "{'_id': ObjectId('645b36a889b7565412185c1e'), 'actor': '김보라', 'actor_url': 'http://www.cine21.com//db/person/info/?person_id=73838', 'indices': '49772', 'start_period': '2023-04', 'info': {'직업': '배우', '홈페이지': ['http://instagram.com/kim_bora95'], '생년월일': '1995-09-28', '성별': '여', '신장/체중': '161cm'}, 'movie_list': [['http://www.cine21.com//db/tv/info/?tv_id=24423', '핀란드 파파', '(2023)'], ['http://www.cine21.com//movie/info/?movie_id=60317', '옥수역귀신', '(2022)'], ['http://www.cine21.com//db/tv/info/?tv_id=23287', '러브씬넘버#', '(2021)']]}\n"
     ]
    }
   ],
   "source": [
    "for doc in actors_info.find():\n",
    "    print(doc)"
   ]
  },
  {
   "cell_type": "markdown",
   "id": "3c80ea84-13fe-4690-bda3-a8666e5bb351",
   "metadata": {},
   "source": [
    "## UPDATE"
   ]
  },
  {
   "cell_type": "code",
   "execution_count": 296,
   "id": "93873910-10fd-4f84-90e0-e25313b88e1b",
   "metadata": {
    "tags": []
   },
   "outputs": [
    {
     "data": {
      "text/plain": [
       "<pymongo.results.UpdateResult at 0x1c3219490d0>"
      ]
     },
     "execution_count": 296,
     "metadata": {},
     "output_type": "execute_result"
    }
   ],
   "source": [
    "actors_info.update_many(\n",
    "    {},\n",
    "    {\"$rename\": {\"actor\": \"name\"}}\n",
    ")"
   ]
  },
  {
   "cell_type": "code",
   "execution_count": 297,
   "id": "120f1256-dba4-43ca-a445-745209c8da2b",
   "metadata": {
    "tags": []
   },
   "outputs": [
    {
     "name": "stdout",
     "output_type": "stream",
     "text": [
      "{'_id': ObjectId('645b3f52cc95e8aa99b7fcd5'), 'actor_url': 'http://www.cine21.com//db/person/info/?person_id=4883', 'indices': '79451', 'start_period': '2023-04', 'info': {'직업': '배우', '홈페이지': ['https://www.instagram.com/aahnjaehong/'], '생년월일': '1986-03-31', '성별': '남'}, 'movie_list': [['http://www.cine21.com//movie/info/?movie_id=60178', '리바운드', '(2022)'], ['http://www.cine21.com//movie/info/?movie_id=58718', '하이파이브', '(2021)'], ['http://www.cine21.com//movie/info/?movie_id=54142', '사냥의 시간', '(2020)']], 'name': '안재홍'}\n",
      "{'_id': ObjectId('645b3f52cc95e8aa99b7fcd6'), 'actor_url': 'http://www.cine21.com//db/person/info/?person_id=113283', 'indices': '68100', 'start_period': '2023-04', 'info': {'직업': '배우', '홈페이지': ['https://www.instagram.com/leesin_y/'], '생년월일': '1998-01-24', '성별': '남'}, 'movie_list': [['http://www.cine21.com//db/tv/info/?tv_id=24430', '낭만닥터 김사부 3', '(2023)'], ['http://www.cine21.com//db/tv/info/?tv_id=23303', '너와 나의 경찰수업', '(2022)'], ['http://www.cine21.com//movie/info/?movie_id=60178', '리바운드', '(2022)']], 'name': '이신영'}\n",
      "{'_id': ObjectId('645b3f52cc95e8aa99b7fcd7'), 'actor_url': 'http://www.cine21.com//db/person/info/?person_id=84745', 'indices': '66234', 'start_period': '2023-04', 'info': {'직업': '배우', '홈페이지': ['https://www.instagram.com/bn_sj2013/', 'https://twitter.com/bn_sj2013'], '생년월일': '1988-12-16', '성별': '남'}, 'movie_list': [['http://www.cine21.com//db/tv/info/?tv_id=24276', '서진이네', '(2023)'], ['http://www.cine21.com//movie/info/?movie_id=55390', '드림', '(2023)'], ['http://www.cine21.com//movie/info/?movie_id=60369', '더 마블스', '(2023)']], 'name': '박서준'}\n",
      "{'_id': ObjectId('645b3f52cc95e8aa99b7fcd8'), 'actor_url': 'http://www.cine21.com//db/person/info/?person_id=71827', 'indices': '59612', 'start_period': '2023-04', 'info': {'다른 이름': '이지은', '홈페이지': ['https://twitter.com/lily199iu', 'https://www.instagram.com/dlwlrma/'], '직업': '가수', '생년월일': '1993-05-16', '성별': '여', '학교': '동덕여자고등학교'}, 'movie_list': [['http://www.cine21.com//movie/info/?movie_id=55390', '드림', '(2023)'], ['http://www.cine21.com//movie/info/?movie_id=56800', '브로커', '(2022)'], ['http://www.cine21.com//db/tv/info/?tv_id=22398', '[스페셜] 아이유 인터뷰', '(2020)']], 'name': '아이유'}\n",
      "{'_id': ObjectId('645b3f52cc95e8aa99b7fcd9'), 'actor_url': 'http://www.cine21.com//db/person/info/?person_id=71801', 'indices': '57437', 'start_period': '2023-04', 'info': {'다른 이름': '2am; 진운', '홈페이지': ['https://twitter.com/2amjinwoon', 'https://www.facebook.com/jinwoon.jeong', 'https://instagram.com/jinwoon52'], '직업': '가수', '생년월일': '1991-05-02', '성별': '남', '신장/체중': '185cm, 72kg', '학교': '대진대학교 연극영화학', '취미': '악기다루기', '특기': '기타, 베이스, 드럼 연주, 농구', '소속사': 'JYP엔터테인먼트'}, 'movie_list': [['http://www.cine21.com//db/tv/info/?tv_id=23608', '스타일 美 시즌3', '(2022)'], ['http://www.cine21.com//db/tv/info/?tv_id=24266', '스타일 美 시즌4', '(2022)'], ['http://www.cine21.com//movie/info/?movie_id=59481', '오! 마이 고스트', '(2022)']], 'name': '정진운'}\n",
      "{'_id': ObjectId('645b3f52cc95e8aa99b7fcda'), 'actor_url': 'http://www.cine21.com//db/person/info/?person_id=65628', 'indices': '52989', 'start_period': '2023-04', 'info': {'직업': '배우', '홈페이지': ['http://www.artistcompany.co.kr/portfolio-item/kim-jong-soo/'], '생년월일': '1964-11-30', '성별': '남', '소속사': '아티스트컴퍼니'}, 'movie_list': [['http://www.cine21.com//movie/info/?movie_id=55390', '드림', '(2023)'], ['http://www.cine21.com//db/tv/info/?tv_id=24431', '어쩌다 마주친, 그대', '(2023)'], ['http://www.cine21.com//movie/info/?movie_id=57907', '헌트', '(2022)']], 'name': '김종수'}\n",
      "{'_id': ObjectId('645b3f52cc95e8aa99b7fcdb'), 'actor_url': 'http://www.cine21.com//db/person/info/?person_id=73838', 'indices': '49772', 'start_period': '2023-04', 'info': {'직업': '배우', '홈페이지': ['http://instagram.com/kim_bora95'], '생년월일': '1995-09-28', '성별': '여', '신장/체중': '161cm'}, 'movie_list': [['http://www.cine21.com//db/tv/info/?tv_id=24423', '핀란드 파파', '(2023)'], ['http://www.cine21.com//movie/info/?movie_id=60317', '옥수역귀신', '(2022)'], ['http://www.cine21.com//db/tv/info/?tv_id=23287', '러브씬넘버#', '(2021)']], 'name': '김보라'}\n",
      "{'_id': ObjectId('645b406d00d3dfa262b5d21b'), 'actor_url': 'http://www.cine21.com//db/person/info/?person_id=41411', 'indices': '46618', 'start_period': '2023-04', 'info': {'직업': '배우', '홈페이지': [], '생년월일': '1970-10-13', '성별': '남'}, 'movie_list': [['http://www.cine21.com//movie/info/?movie_id=55390', '드림', '(2023)'], ['http://www.cine21.com//db/tv/info/?tv_id=23846', '오늘의 웹툰', '(2022)'], ['http://www.cine21.com//movie/info/?movie_id=51054', '니 부모 얼굴이 보고 싶다', '(2022)']], 'name': '고창석'}\n",
      "{'_id': ObjectId('645b406d00d3dfa262b5d21c'), 'actor_url': 'http://www.cine21.com//db/person/info/?person_id=118959', 'indices': '45400', 'start_period': '2023-04', 'info': {'직업': '배우', '홈페이지': ['https://www.instagram.com/___taegie/'], '생년월일': '1998-12-26', '성별': '남'}, 'movie_list': [['http://www.cine21.com//movie/info/?movie_id=60178', '리바운드', '(2022)'], ['http://www.cine21.com//db/tv/info/?tv_id=23002', '연모', '(2021)']], 'name': '김택'}\n",
      "{'_id': ObjectId('645b406d00d3dfa262b5d21d'), 'actor_url': 'http://www.cine21.com//db/person/info/?person_id=20144', 'indices': '39748', 'start_period': '2023-04', 'info': {'직업': '배우', '홈페이지': [], '생년월일': '1972-08-10', '성별': '남'}, 'movie_list': [['http://www.cine21.com//db/tv/info/?tv_id=24212', '대행사', '(2023)'], ['http://www.cine21.com//movie/info/?movie_id=55390', '드림', '(2023)'], ['http://www.cine21.com//db/tv/info/?tv_id=23766', '최종병기 앨리스', '(2022)']], 'name': '정승길'}\n",
      "{'_id': ObjectId('645b406d00d3dfa262b5d21e'), 'actor_url': 'http://www.cine21.com//db/person/info/?person_id=70672', 'indices': '34589', 'start_period': '2023-04', 'info': {'다른 이름': 'LEE Ha-nee', '홈페이지': ['https://www.facebook.com/saram.leehoney', 'https://instagram.com/honey_lee32/'], '직업': '배우', '생년월일': '1983-03-02', '성별': '여'}, 'movie_list': [['http://www.cine21.com//movie/info/?movie_id=57486', '유령', '(2023)'], ['http://www.cine21.com//movie/info/?movie_id=57324', '외계+인 1부', '(2022)'], ['http://www.cine21.com//db/tv/info/?tv_id=22022', '원 더 우먼', '(2021)']], 'name': '이하늬'}\n",
      "{'_id': ObjectId('645b406d00d3dfa262b5d21f'), 'actor_url': 'http://www.cine21.com//db/person/info/?person_id=106831', 'indices': '34050', 'start_period': '2023-04', 'info': {'직업': '배우', '홈페이지': ['http://instagram.com/jrjswn'], '생년월일': '1995-05-26', '성별': '남'}, 'movie_list': [['http://www.cine21.com//db/tv/info/?tv_id=24313', '꽃선비 열애사', '(2023)'], ['http://www.cine21.com//movie/info/?movie_id=60178', '리바운드', '(2022)'], ['http://www.cine21.com//db/tv/info/?tv_id=21836', '월간 집', '(2021)']], 'name': '정건주'}\n",
      "{'_id': ObjectId('645b406d00d3dfa262b5d220'), 'actor_url': 'http://www.cine21.com//db/person/info/?person_id=71321', 'indices': '33203', 'start_period': '2023-04', 'info': {'직업': '배우', '홈페이지': ['https://www.instagram.com/hihyunwoo/', 'https://twitter.com/hihyunwoo'], '생년월일': '1993-03-23', '성별': '남', '신장/체중': '170cm', '학교': '평촌고등학교', '취미': '컴퓨터게임, 축구, 농구, 스노우보드'}, 'movie_list': [['http://www.cine21.com//movie/info/?movie_id=55390', '드림', '(2023)'], ['http://www.cine21.com//db/tv/info/?tv_id=23764', '종이의 집: 공동경제구역 파트1', '(2022)'], ['http://www.cine21.com//db/tv/info/?tv_id=24158', '종이의 집: 공동경제구역 파트 2', '(2022)']], 'name': '이현우'}\n",
      "{'_id': ObjectId('645b406d00d3dfa262b5d221'), 'actor_url': 'http://www.cine21.com//db/person/info/?person_id=94720', 'indices': '33181', 'start_period': '2023-04', 'info': {'다른 이름': '엔플라잉;N.Flying;닥터 제이;Dr Jay', '홈페이지': [], '직업': '가수', '생년월일': '1994-07-15', '성별': '남'}, 'movie_list': [['http://www.cine21.com//movie/info/?movie_id=60317', '옥수역귀신', '(2022)'], ['http://www.cine21.com//db/tv/info/?tv_id=17955', '게임돌림픽 2019 : 골든카드', '(2019)'], ['http://www.cine21.com//db/tv/info/?tv_id=8993', '별별 며느리', '(2017)']], 'name': '김재현'}\n"
     ]
    }
   ],
   "source": [
    "for doc in actors_info.find():\n",
    "    print(doc)"
   ]
  }
 ],
 "metadata": {
  "kernelspec": {
   "display_name": "pymongo",
   "language": "python",
   "name": "pymg_venv"
  },
  "language_info": {
   "codemirror_mode": {
    "name": "ipython",
    "version": 3
   },
   "file_extension": ".py",
   "mimetype": "text/x-python",
   "name": "python",
   "nbconvert_exporter": "python",
   "pygments_lexer": "ipython3",
   "version": "3.9.13"
  }
 },
 "nbformat": 4,
 "nbformat_minor": 5
}
