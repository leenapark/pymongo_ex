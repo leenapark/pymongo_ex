{
 "cells": [
  {
   "cell_type": "markdown",
   "id": "fbd08449-b515-4030-8f20-fbd0b2ac87d1",
   "metadata": {},
   "source": [
    "# pymongo 실습(mongoDB 연동)"
   ]
  },
  {
   "cell_type": "code",
   "execution_count": 1,
   "id": "e8108cf3-b439-47f1-9e58-22a60ba2d78c",
   "metadata": {
    "tags": []
   },
   "outputs": [],
   "source": [
    "import pymongo"
   ]
  },
  {
   "cell_type": "markdown",
   "id": "f267eeb8-09a1-44c4-ac15-76bd033b7ab1",
   "metadata": {},
   "source": [
    "## mongoDB 연결 : 객체 생성"
   ]
  },
  {
   "cell_type": "code",
   "execution_count": 4,
   "id": "5f227e2a-9042-4818-8f0e-094e7ee58c24",
   "metadata": {
    "tags": []
   },
   "outputs": [],
   "source": [
    "db_rs = \"mongodb://127.0.0.1:27017\"\n",
    "# port = 27017\n",
    "conn = pymongo.MongoClient()"
   ]
  },
  {
   "cell_type": "markdown",
   "id": "4b003a73-0530-4ea0-afed-97b74a32b3b8",
   "metadata": {
    "tags": []
   },
   "source": [
    "## DB 연결\n",
    "- 없으면 생성\n",
    "- 있으면 사용"
   ]
  },
  {
   "cell_type": "code",
   "execution_count": 24,
   "id": "573bb905-cc64-4c67-a4ca-9f5296881f98",
   "metadata": {
    "tags": []
   },
   "outputs": [],
   "source": [
    "knlg = conn.knowledge"
   ]
  },
  {
   "cell_type": "code",
   "execution_count": 23,
   "id": "f5588fb0-e2fb-4306-8c4b-b2649ef89f25",
   "metadata": {
    "tags": []
   },
   "outputs": [],
   "source": [
    "test_b = conn[\"test\"]"
   ]
  },
  {
   "cell_type": "code",
   "execution_count": 7,
   "id": "dd95cd3b-8419-485e-8fe2-a0fc41cf3991",
   "metadata": {
    "tags": []
   },
   "outputs": [
    {
     "name": "stdout",
     "output_type": "stream",
     "text": [
      "Database(MongoClient(host=['localhost:27017'], document_class=dict, tz_aware=False, connect=True), 'knowledge')\n"
     ]
    }
   ],
   "source": [
    "print(knlg)"
   ]
  },
  {
   "cell_type": "code",
   "execution_count": 10,
   "id": "6d216444-aa8c-475e-903c-ea44b50d48c2",
   "metadata": {
    "tags": []
   },
   "outputs": [
    {
     "name": "stdout",
     "output_type": "stream",
     "text": [
      "['_BaseObject__codec_options', '_BaseObject__read_concern', '_BaseObject__read_preference', '_BaseObject__write_concern', '_Database__client', '_Database__name', '__bool__', '__class__', '__class_getitem__', '__delattr__', '__dict__', '__dir__', '__doc__', '__eq__', '__format__', '__ge__', '__getattr__', '__getattribute__', '__getitem__', '__gt__', '__hash__', '__init__', '__init_subclass__', '__iter__', '__le__', '__lt__', '__module__', '__ne__', '__new__', '__next__', '__orig_bases__', '__parameters__', '__reduce__', '__reduce_ex__', '__repr__', '__setattr__', '__sizeof__', '__slots__', '__str__', '__subclasshook__', '__weakref__', '_command', '_drop_helper', '_is_protocol', '_list_collections', '_read_preference_for', '_retryable_read_command', '_timeout', '_write_concern_for', 'aggregate', 'client', 'codec_options', 'command', 'create_collection', 'dereference', 'drop_collection', 'get_collection', 'list_collection_names', 'list_collections', 'name', 'next', 'read_concern', 'read_preference', 'validate_collection', 'watch', 'with_options', 'write_concern']\n"
     ]
    }
   ],
   "source": [
    "print(dir(test_b))"
   ]
  },
  {
   "cell_type": "code",
   "execution_count": 11,
   "id": "3b11dbc8-2209-4e87-8347-b92d3a8b08a2",
   "metadata": {
    "tags": []
   },
   "outputs": [
    {
     "name": "stdout",
     "output_type": "stream",
     "text": [
      "['_BaseObject__codec_options', '_BaseObject__read_concern', '_BaseObject__read_preference', '_BaseObject__write_concern', '_Database__client', '_Database__name', '__bool__', '__class__', '__class_getitem__', '__delattr__', '__dict__', '__dir__', '__doc__', '__eq__', '__format__', '__ge__', '__getattr__', '__getattribute__', '__getitem__', '__gt__', '__hash__', '__init__', '__init_subclass__', '__iter__', '__le__', '__lt__', '__module__', '__ne__', '__new__', '__next__', '__orig_bases__', '__parameters__', '__reduce__', '__reduce_ex__', '__repr__', '__setattr__', '__sizeof__', '__slots__', '__str__', '__subclasshook__', '__weakref__', '_command', '_drop_helper', '_is_protocol', '_list_collections', '_read_preference_for', '_retryable_read_command', '_timeout', '_write_concern_for', 'aggregate', 'client', 'codec_options', 'command', 'create_collection', 'dereference', 'drop_collection', 'get_collection', 'list_collection_names', 'list_collections', 'name', 'next', 'read_concern', 'read_preference', 'validate_collection', 'watch', 'with_options', 'write_concern']\n"
     ]
    }
   ],
   "source": [
    "print(dir(knlg))"
   ]
  },
  {
   "cell_type": "markdown",
   "id": "ae3e3a2d-8568-44d7-b423-ceb3aa143545",
   "metadata": {},
   "source": [
    "## collection\n",
    "- 없을 경우 생성\n",
    "- 있으면 사용"
   ]
  },
  {
   "cell_type": "code",
   "execution_count": 47,
   "id": "08c8e85c-15f3-462f-b9b0-f0f28d6a8f78",
   "metadata": {
    "tags": []
   },
   "outputs": [],
   "source": [
    "it_col = knlg.it_col\n",
    "knlg_it = knlg.it"
   ]
  },
  {
   "cell_type": "code",
   "execution_count": 21,
   "id": "6b022704-a1f2-4957-8cf8-1f61c19167c0",
   "metadata": {
    "tags": []
   },
   "outputs": [],
   "source": [
    "test_col = test_b[\"it_col\"]\n",
    "test_it = test_b[\"knlg_it\"]"
   ]
  },
  {
   "cell_type": "code",
   "execution_count": 14,
   "id": "293930ca-d8dd-4076-951c-e9f1c929e3c5",
   "metadata": {
    "tags": []
   },
   "outputs": [
    {
     "name": "stdout",
     "output_type": "stream",
     "text": [
      "Collection(Database(MongoClient(host=['localhost:27017'], document_class=dict, tz_aware=False, connect=True), 'test'), 'it_col')\n",
      "Collection(Database(MongoClient(host=['localhost:27017'], document_class=dict, tz_aware=False, connect=True), 'test'), 'knlg_it')\n"
     ]
    }
   ],
   "source": [
    "print(test_col)\n",
    "print(test_it)"
   ]
  },
  {
   "cell_type": "markdown",
   "id": "c83644c1-de62-4f54-bfb6-c0490ca4adec",
   "metadata": {},
   "source": [
    "## Document Insert(Create)"
   ]
  },
  {
   "cell_type": "code",
   "execution_count": 15,
   "id": "e3312fc6-c85c-4d09-a834-8735fe0dd70d",
   "metadata": {
    "tags": []
   },
   "outputs": [],
   "source": [
    "post = {\"author\": \"Mike\", \"text\": \"My first blog post!\", \"tags\": [\"mongodb\", \"python\", \"pymongo\"] }"
   ]
  },
  {
   "cell_type": "code",
   "execution_count": 18,
   "id": "a4113047-123e-4dfc-89f7-6c52bdc9eb12",
   "metadata": {
    "tags": []
   },
   "outputs": [
    {
     "data": {
      "text/plain": [
       "<pymongo.results.InsertOneResult at 0x22447f13700>"
      ]
     },
     "execution_count": 18,
     "metadata": {},
     "output_type": "execute_result"
    }
   ],
   "source": [
    "it_col.insert_one(post)"
   ]
  },
  {
   "cell_type": "code",
   "execution_count": 22,
   "id": "1860cde6-7f79-4c13-b666-bd0dcba9ebe4",
   "metadata": {
    "tags": []
   },
   "outputs": [
    {
     "data": {
      "text/plain": [
       "<pymongo.results.InsertOneResult at 0x22447f13dc0>"
      ]
     },
     "execution_count": 22,
     "metadata": {},
     "output_type": "execute_result"
    }
   ],
   "source": [
    "test_col.insert_one(post)"
   ]
  },
  {
   "cell_type": "code",
   "execution_count": 26,
   "id": "61ff4347-9cc1-45d7-b6fa-a34910fe1778",
   "metadata": {
    "tags": []
   },
   "outputs": [],
   "source": [
    "docs = [\n",
    "    { \"author\":\"Dave Ahn\", \"age\":25 },\n",
    "    { \"author\":\"Dave\", \"age\":30 },\n",
    "    { \"author\":\"smile\", \"age\":40 },\n",
    "    { \"author\":\"joy\", \"age\":20 }\n",
    "]"
   ]
  },
  {
   "cell_type": "code",
   "execution_count": 27,
   "id": "d3e71f57-f627-4734-bf6e-9fac3d58d73b",
   "metadata": {
    "tags": []
   },
   "outputs": [
    {
     "data": {
      "text/plain": [
       "<pymongo.results.InsertManyResult at 0x2244808b850>"
      ]
     },
     "execution_count": 27,
     "metadata": {},
     "output_type": "execute_result"
    }
   ],
   "source": [
    "it_col.insert_many(docs)"
   ]
  },
  {
   "cell_type": "code",
   "execution_count": 31,
   "id": "4b7678a4-1205-42d0-b8fa-7007810baef5",
   "metadata": {
    "tags": []
   },
   "outputs": [],
   "source": [
    "post = { \"author\":\"happy\", \"age\":30 }"
   ]
  },
  {
   "cell_type": "code",
   "execution_count": 32,
   "id": "f0135105-5bdc-4b80-b489-5497a4472526",
   "metadata": {
    "tags": []
   },
   "outputs": [],
   "source": [
    "post_id = it_col.insert_one(post)"
   ]
  },
  {
   "cell_type": "code",
   "execution_count": 34,
   "id": "4290d653-5a85-4b09-bb43-471d569f8496",
   "metadata": {
    "tags": []
   },
   "outputs": [
    {
     "data": {
      "text/plain": [
       "ObjectId('6459fa57d944f530af491d10')"
      ]
     },
     "execution_count": 34,
     "metadata": {},
     "output_type": "execute_result"
    }
   ],
   "source": [
    "post_id.inserted_id"
   ]
  },
  {
   "cell_type": "code",
   "execution_count": 42,
   "id": "e6d2a335-8dd2-4f16-91dc-ef321559ac0e",
   "metadata": {
    "tags": []
   },
   "outputs": [
    {
     "data": {
      "text/plain": [
       "{'_id': ObjectId('6459fa57d944f530af491d10'), 'author': 'happy', 'age': 30}"
      ]
     },
     "execution_count": 42,
     "metadata": {},
     "output_type": "execute_result"
    }
   ],
   "source": [
    "it_col.find_one({\n",
    "    \"author\": \"happy\"\n",
    "}, {})"
   ]
  },
  {
   "cell_type": "code",
   "execution_count": 43,
   "id": "d31a555f-d065-494a-b771-c0a892844888",
   "metadata": {
    "tags": []
   },
   "outputs": [
    {
     "data": {
      "text/plain": [
       "<pymongo.cursor.Cursor at 0x22447ae87c0>"
      ]
     },
     "execution_count": 43,
     "metadata": {},
     "output_type": "execute_result"
    }
   ],
   "source": [
    "it_col.find({\n",
    "    \"author\": \"happy\"\n",
    "}, {\"author\":1})\n",
    "# find를 사용하면 값이 1개여도 다수값으로 반환됨 : for문 사용"
   ]
  },
  {
   "cell_type": "code",
   "execution_count": 44,
   "id": "ca66cf98-380a-4a57-a284-1261d040ce1a",
   "metadata": {
    "tags": []
   },
   "outputs": [
    {
     "data": {
      "text/plain": [
       "[{'_id': ObjectId('6459f30ad944f530af491d0a')},\n",
       " {'_id': ObjectId('6459f955d944f530af491d0b')},\n",
       " {'_id': ObjectId('6459f955d944f530af491d0c')},\n",
       " {'_id': ObjectId('6459f955d944f530af491d0d')},\n",
       " {'_id': ObjectId('6459f955d944f530af491d0e')},\n",
       " {'_id': ObjectId('6459fa57d944f530af491d10')}]"
      ]
     },
     "execution_count": 44,
     "metadata": {},
     "output_type": "execute_result"
    }
   ],
   "source": [
    "list(it_col.find({}, {\"_id\"}))"
   ]
  },
  {
   "cell_type": "code",
   "execution_count": 40,
   "id": "d06462e5-0abb-4256-bd36-aa15872833d8",
   "metadata": {
    "tags": []
   },
   "outputs": [
    {
     "data": {
      "text/plain": [
       "pymongo.cursor.Cursor"
      ]
     },
     "execution_count": 40,
     "metadata": {},
     "output_type": "execute_result"
    }
   ],
   "source": [
    "type(it_col.find({\n",
    "    \"author\": \"happy\"\n",
    "}, {\"author\":1}))"
   ]
  },
  {
   "cell_type": "code",
   "execution_count": 38,
   "id": "b6ae77b2-0c00-47a7-bf5c-e50dbdebf2b6",
   "metadata": {
    "tags": []
   },
   "outputs": [
    {
     "name": "stdout",
     "output_type": "stream",
     "text": [
      "{'_id': ObjectId('6459f30ad944f530af491d0a')}\n",
      "{'_id': ObjectId('6459f955d944f530af491d0b')}\n",
      "{'_id': ObjectId('6459f955d944f530af491d0c')}\n",
      "{'_id': ObjectId('6459f955d944f530af491d0d')}\n",
      "{'_id': ObjectId('6459f955d944f530af491d0e')}\n",
      "{'_id': ObjectId('6459fa57d944f530af491d10')}\n"
     ]
    }
   ],
   "source": [
    "for doc in it_col.find({}, {\"_id\":1}):\n",
    "    print(doc)"
   ]
  },
  {
   "cell_type": "code",
   "execution_count": 52,
   "id": "d1623133-ccb8-46c4-9c9d-ba9de45e996c",
   "metadata": {
    "tags": []
   },
   "outputs": [
    {
     "data": {
      "text/plain": [
       "6"
      ]
     },
     "execution_count": 52,
     "metadata": {},
     "output_type": "execute_result"
    }
   ],
   "source": [
    "# it_col.count_document({조건}) : 조건이 없어도 {} 사용\n",
    "it_col.count_documents({})"
   ]
  },
  {
   "cell_type": "code",
   "execution_count": 51,
   "id": "a113ace6-9999-4881-a1d8-c6f7e2bf67c7",
   "metadata": {
    "tags": []
   },
   "outputs": [
    {
     "data": {
      "text/plain": [
       "2"
      ]
     },
     "execution_count": 51,
     "metadata": {},
     "output_type": "execute_result"
    }
   ],
   "source": [
    "it_col.count_documents({\"age\": 30})"
   ]
  },
  {
   "cell_type": "code",
   "execution_count": 58,
   "id": "b3b523ca-ac6c-48d0-b7aa-e18d9a2f9eb8",
   "metadata": {
    "tags": []
   },
   "outputs": [
    {
     "data": {
      "text/plain": [
       "3"
      ]
     },
     "execution_count": 58,
     "metadata": {},
     "output_type": "execute_result"
    }
   ],
   "source": [
    "# age 의 값이 30 이상인 갯수 리턴\n",
    "it_col.count_documents({\"age\": {\"$gte\": 30}})"
   ]
  },
  {
   "cell_type": "code",
   "execution_count": 59,
   "id": "ee4ad9d4-325a-4ca3-818b-1e6a5aab6346",
   "metadata": {
    "tags": []
   },
   "outputs": [
    {
     "data": {
      "text/plain": [
       "<pymongo.results.InsertOneResult at 0x22443cb6ac0>"
      ]
     },
     "execution_count": 59,
     "metadata": {},
     "output_type": "execute_result"
    }
   ],
   "source": [
    "it_col.insert_one(\n",
    "    {\n",
    "        'title' : '실미도', \n",
    "        'castings' : ['설경구', '안성기'], \n",
    "        'datetime' : \n",
    "        {\n",
    "            'year' : '2003', \n",
    "            'month' : 3,\n",
    "            'val' : \n",
    "            {\n",
    "                'a' :\n",
    "                {\n",
    "                    'b' : 1\n",
    "                }\n",
    "            }\n",
    "        }\n",
    "    }\n",
    ")"
   ]
  },
  {
   "cell_type": "code",
   "execution_count": 60,
   "id": "0eb7024f-082d-4110-9115-396d881f792d",
   "metadata": {
    "tags": []
   },
   "outputs": [
    {
     "data": {
      "text/plain": [
       "{'_id': ObjectId('6459fed9d944f530af491d11'),\n",
       " 'title': '실미도',\n",
       " 'castings': ['설경구', '안성기'],\n",
       " 'datetime': {'year': '2003', 'month': 3, 'val': {'a': {'b': 1}}}}"
      ]
     },
     "execution_count": 60,
     "metadata": {},
     "output_type": "execute_result"
    }
   ],
   "source": [
    "it_col.find_one({\"title\":\"실미도\"})"
   ]
  },
  {
   "cell_type": "code",
   "execution_count": 71,
   "id": "dd46f077-4696-4dcb-8923-784d54d8f1e0",
   "metadata": {
    "tags": []
   },
   "outputs": [],
   "source": [
    "for doc in it_col.find({\"datetime\" : {\"val\" : \"a\"}}):\n",
    "    print(doc)"
   ]
  },
  {
   "cell_type": "code",
   "execution_count": 79,
   "id": "bb1add0f-25ac-4bac-b9e8-1bf2d8f7c848",
   "metadata": {
    "tags": []
   },
   "outputs": [],
   "source": [
    "data = []\n",
    "# data = list()\n",
    "name = \"author\"\n",
    "age = \"age\"\n",
    "gender = \"gender\""
   ]
  },
  {
   "cell_type": "code",
   "execution_count": 80,
   "id": "20b9a106-5758-4f8f-966a-13d4122b5dba",
   "metadata": {
    "tags": []
   },
   "outputs": [],
   "source": [
    "data.append({name: 'aaron', age : 20, gender: \"male\"})\n",
    "data.append({name: 'bob', age : 30, gender: \"male\"})\n",
    "data.append({name: \"cathy\", age: 25, gender: \"female\"})\n",
    "data.append({name: \"david\", age: 27, gender: \"male\"})\n",
    "data.append({name: \"erick\", age: 28, gender: \"female\"})\n",
    "data.append({name: \"fox\", age: 32, gender: \"male\"})\n",
    "data.append({name: \"hmm\", age: 50, gender: \"female\"})"
   ]
  },
  {
   "cell_type": "code",
   "execution_count": 81,
   "id": "80b7318a-cc5b-4351-9e98-817c62b6d446",
   "metadata": {
    "tags": []
   },
   "outputs": [
    {
     "data": {
      "text/plain": [
       "<pymongo.results.InsertManyResult at 0x22447b2a970>"
      ]
     },
     "execution_count": 81,
     "metadata": {},
     "output_type": "execute_result"
    }
   ],
   "source": [
    "it_col.insert_many(data)"
   ]
  },
  {
   "cell_type": "code",
   "execution_count": 82,
   "id": "afedf29f-9cca-4d2f-9cd1-47be6c3304bb",
   "metadata": {
    "tags": []
   },
   "outputs": [
    {
     "name": "stdout",
     "output_type": "stream",
     "text": [
      "{'_id': ObjectId('6459f30ad944f530af491d0a'), 'author': 'Mike', 'text': 'My first blog post!', 'tags': ['mongodb', 'python', 'pymongo']}\n",
      "{'_id': ObjectId('6459f955d944f530af491d0b'), 'author': 'Dave Ahn', 'age': 25}\n",
      "{'_id': ObjectId('6459f955d944f530af491d0c'), 'author': 'Dave', 'age': 30}\n",
      "{'_id': ObjectId('6459f955d944f530af491d0d'), 'author': 'smile', 'age': 40}\n",
      "{'_id': ObjectId('6459f955d944f530af491d0e'), 'author': 'joy', 'age': 20}\n",
      "{'_id': ObjectId('6459fa57d944f530af491d10'), 'author': 'happy', 'age': 30}\n",
      "{'_id': ObjectId('6459fed9d944f530af491d11'), 'title': '실미도', 'castings': ['설경구', '안성기'], 'datetime': {'year': '2003', 'month': 3, 'val': {'a': {'b': 1}}}}\n",
      "{'_id': ObjectId('645a0179d944f530af491d12'), 'author': 'aaron', 'age': 20, 'gender': 'male'}\n",
      "{'_id': ObjectId('645a0179d944f530af491d13'), 'author': 'bob', 'age': 30, 'gender': 'male'}\n",
      "{'_id': ObjectId('645a0179d944f530af491d14'), 'author': 'cathy', 'age': 25, 'gender': 'female'}\n",
      "{'_id': ObjectId('645a0179d944f530af491d15'), 'author': 'david', 'age': 27, 'gender': 'male'}\n",
      "{'_id': ObjectId('645a0179d944f530af491d16'), 'author': 'erick', 'age': 28, 'gender': 'female'}\n",
      "{'_id': ObjectId('645a0179d944f530af491d17'), 'author': 'fox', 'age': 32, 'gender': 'male'}\n",
      "{'_id': ObjectId('645a0179d944f530af491d18'), 'author': 'hmm', 'age': 50, 'gender': 'female'}\n"
     ]
    }
   ],
   "source": [
    "for doc in it_col.find():\n",
    "    print(doc)"
   ]
  },
  {
   "cell_type": "code",
   "execution_count": 84,
   "id": "7e90876c-923c-4291-a66e-d0598e1baad1",
   "metadata": {
    "tags": []
   },
   "outputs": [
    {
     "data": {
      "text/plain": [
       "14"
      ]
     },
     "execution_count": 84,
     "metadata": {},
     "output_type": "execute_result"
    }
   ],
   "source": [
    "# 컬렉션의 전체 도큐먼트 갯수 반환\n",
    "it_col.estimated_document_count()"
   ]
  },
  {
   "cell_type": "code",
   "execution_count": 86,
   "id": "92ce5eff-3e3a-4d83-907e-f0f77aa5fcbc",
   "metadata": {
    "tags": []
   },
   "outputs": [
    {
     "data": {
      "text/plain": [
       "{'_id': ObjectId('6459f30ad944f530af491d0a'),\n",
       " 'author': 'Mike',\n",
       " 'text': 'My first blog post!',\n",
       " 'tags': ['mongodb', 'python', 'pymongo']}"
      ]
     },
     "execution_count": 86,
     "metadata": {},
     "output_type": "execute_result"
    }
   ],
   "source": [
    "it_col.find_one()"
   ]
  },
  {
   "cell_type": "code",
   "execution_count": 87,
   "id": "b81ea430-f50a-4aea-8584-c8ddd7493fb2",
   "metadata": {
    "tags": []
   },
   "outputs": [],
   "source": [
    "dave = it_col.find_one({ \"author\": \"Dave\"})"
   ]
  },
  {
   "cell_type": "code",
   "execution_count": 88,
   "id": "40ebace5-8485-4331-9eba-bcb6102782be",
   "metadata": {
    "tags": []
   },
   "outputs": [
    {
     "name": "stdout",
     "output_type": "stream",
     "text": [
      "{'_id': ObjectId('6459f955d944f530af491d0c'), 'author': 'Dave', 'age': 30}\n"
     ]
    }
   ],
   "source": [
    "print(dave)"
   ]
  },
  {
   "cell_type": "code",
   "execution_count": 89,
   "id": "4a9c6b3c-2189-4c4a-ac05-e4ca1621bc1a",
   "metadata": {
    "tags": []
   },
   "outputs": [],
   "source": [
    "docs = it_col.find()"
   ]
  },
  {
   "cell_type": "code",
   "execution_count": 90,
   "id": "5cda2ae5-4658-41b7-9ab6-eafbf1a8efc8",
   "metadata": {
    "tags": []
   },
   "outputs": [
    {
     "name": "stdout",
     "output_type": "stream",
     "text": [
      "{'_id': ObjectId('6459f30ad944f530af491d0a'), 'author': 'Mike', 'text': 'My first blog post!', 'tags': ['mongodb', 'python', 'pymongo']}\n",
      "{'_id': ObjectId('6459f955d944f530af491d0b'), 'author': 'Dave Ahn', 'age': 25}\n",
      "{'_id': ObjectId('6459f955d944f530af491d0c'), 'author': 'Dave', 'age': 30}\n",
      "{'_id': ObjectId('6459f955d944f530af491d0d'), 'author': 'smile', 'age': 40}\n",
      "{'_id': ObjectId('6459f955d944f530af491d0e'), 'author': 'joy', 'age': 20}\n",
      "{'_id': ObjectId('6459fa57d944f530af491d10'), 'author': 'happy', 'age': 30}\n",
      "{'_id': ObjectId('6459fed9d944f530af491d11'), 'title': '실미도', 'castings': ['설경구', '안성기'], 'datetime': {'year': '2003', 'month': 3, 'val': {'a': {'b': 1}}}}\n",
      "{'_id': ObjectId('645a0179d944f530af491d12'), 'author': 'aaron', 'age': 20, 'gender': 'male'}\n",
      "{'_id': ObjectId('645a0179d944f530af491d13'), 'author': 'bob', 'age': 30, 'gender': 'male'}\n",
      "{'_id': ObjectId('645a0179d944f530af491d14'), 'author': 'cathy', 'age': 25, 'gender': 'female'}\n",
      "{'_id': ObjectId('645a0179d944f530af491d15'), 'author': 'david', 'age': 27, 'gender': 'male'}\n",
      "{'_id': ObjectId('645a0179d944f530af491d16'), 'author': 'erick', 'age': 28, 'gender': 'female'}\n",
      "{'_id': ObjectId('645a0179d944f530af491d17'), 'author': 'fox', 'age': 32, 'gender': 'male'}\n",
      "{'_id': ObjectId('645a0179d944f530af491d18'), 'author': 'hmm', 'age': 50, 'gender': 'female'}\n"
     ]
    }
   ],
   "source": [
    "for doc in docs:\n",
    "    print(doc)"
   ]
  },
  {
   "cell_type": "code",
   "execution_count": 98,
   "id": "fe497159-cc81-4bef-869f-32060617f3aa",
   "metadata": {
    "tags": []
   },
   "outputs": [],
   "source": [
    "docs = it_col.find({ \"author\":\"Dave\" })"
   ]
  },
  {
   "cell_type": "code",
   "execution_count": 99,
   "id": "4e843f7b-3118-4027-a71b-061b8bbf6a9f",
   "metadata": {
    "tags": []
   },
   "outputs": [
    {
     "name": "stdout",
     "output_type": "stream",
     "text": [
      "{'_id': ObjectId('6459f955d944f530af491d0c'), 'author': 'Dave', 'age': 30}\n",
      "{'_id': ObjectId('645a07afd944f530af491d19'), 'author': 'Dave', 'text': 'My first blog post!'}\n"
     ]
    }
   ],
   "source": [
    "for doc in docs:\n",
    "    print(doc)"
   ]
  },
  {
   "cell_type": "code",
   "execution_count": 93,
   "id": "28f733c7-b3b4-4cab-8ff1-4cd62b0850eb",
   "metadata": {
    "tags": []
   },
   "outputs": [],
   "source": [
    "post = {\"author\": \"Dave\", \"text\": \"My first blog post!\"}"
   ]
  },
  {
   "cell_type": "code",
   "execution_count": 94,
   "id": "365f00c6-337f-4a48-b4b1-8912984e3100",
   "metadata": {
    "tags": []
   },
   "outputs": [],
   "source": [
    "post_id = it_col.insert_one(post)"
   ]
  },
  {
   "cell_type": "code",
   "execution_count": 95,
   "id": "c43a867b-6728-4e15-bf59-fecb5e5efc99",
   "metadata": {
    "tags": []
   },
   "outputs": [
    {
     "data": {
      "text/plain": [
       "<pymongo.results.InsertOneResult at 0x22447b28430>"
      ]
     },
     "execution_count": 95,
     "metadata": {},
     "output_type": "execute_result"
    }
   ],
   "source": [
    "post_id"
   ]
  },
  {
   "cell_type": "markdown",
   "id": "44d819dc-5517-4741-b974-909ab6043ee7",
   "metadata": {},
   "source": [
    "- count_documents() 함수로 조건에 맞는 검색 데이터 갯수 알아내기"
   ]
  },
  {
   "cell_type": "code",
   "execution_count": 100,
   "id": "e1d51bc7-b23c-4b0f-b455-c306bf5739d8",
   "metadata": {
    "tags": []
   },
   "outputs": [
    {
     "data": {
      "text/plain": [
       "2"
      ]
     },
     "execution_count": 100,
     "metadata": {},
     "output_type": "execute_result"
    }
   ],
   "source": [
    "it_col.count_documents({\"author\":\"Dave\"})"
   ]
  },
  {
   "cell_type": "markdown",
   "id": "6fcfb4d5-e27f-4429-9526-71882cba5061",
   "metadata": {},
   "source": [
    "#### sort()\n",
    "- 정렬 : sort(\"key\")"
   ]
  },
  {
   "cell_type": "code",
   "execution_count": 101,
   "id": "a39f7669-8d7d-44bb-b17f-5887355f2886",
   "metadata": {
    "tags": []
   },
   "outputs": [
    {
     "name": "stdout",
     "output_type": "stream",
     "text": [
      "{'_id': ObjectId('6459f30ad944f530af491d0a'), 'author': 'Mike', 'text': 'My first blog post!', 'tags': ['mongodb', 'python', 'pymongo']}\n",
      "{'_id': ObjectId('6459fed9d944f530af491d11'), 'title': '실미도', 'castings': ['설경구', '안성기'], 'datetime': {'year': '2003', 'month': 3, 'val': {'a': {'b': 1}}}}\n",
      "{'_id': ObjectId('645a07afd944f530af491d19'), 'author': 'Dave', 'text': 'My first blog post!'}\n",
      "{'_id': ObjectId('6459f955d944f530af491d0e'), 'author': 'joy', 'age': 20}\n",
      "{'_id': ObjectId('645a0179d944f530af491d12'), 'author': 'aaron', 'age': 20, 'gender': 'male'}\n",
      "{'_id': ObjectId('6459f955d944f530af491d0b'), 'author': 'Dave Ahn', 'age': 25}\n",
      "{'_id': ObjectId('645a0179d944f530af491d14'), 'author': 'cathy', 'age': 25, 'gender': 'female'}\n",
      "{'_id': ObjectId('645a0179d944f530af491d15'), 'author': 'david', 'age': 27, 'gender': 'male'}\n",
      "{'_id': ObjectId('645a0179d944f530af491d16'), 'author': 'erick', 'age': 28, 'gender': 'female'}\n",
      "{'_id': ObjectId('6459f955d944f530af491d0c'), 'author': 'Dave', 'age': 30}\n",
      "{'_id': ObjectId('6459fa57d944f530af491d10'), 'author': 'happy', 'age': 30}\n",
      "{'_id': ObjectId('645a0179d944f530af491d13'), 'author': 'bob', 'age': 30, 'gender': 'male'}\n",
      "{'_id': ObjectId('645a0179d944f530af491d17'), 'author': 'fox', 'age': 32, 'gender': 'male'}\n",
      "{'_id': ObjectId('6459f955d944f530af491d0d'), 'author': 'smile', 'age': 40}\n",
      "{'_id': ObjectId('645a0179d944f530af491d18'), 'author': 'hmm', 'age': 50, 'gender': 'female'}\n"
     ]
    }
   ],
   "source": [
    "for post in it_col.find().sort(\"age\"):\n",
    "    print(post)"
   ]
  },
  {
   "cell_type": "markdown",
   "id": "e69f2104-c73a-4bf9-98dd-c9bb14f584e2",
   "metadata": {},
   "source": [
    "### 5.6. Document Update\n",
    "- update_one() : 결과값의 첫번째 document 수정\n",
    "- update_many() : 다수 document 한번에 수정"
   ]
  },
  {
   "cell_type": "code",
   "execution_count": 113,
   "id": "6eb99cce-dd3b-4e3c-aa97-4c68d4be443c",
   "metadata": {
    "tags": []
   },
   "outputs": [
    {
     "data": {
      "text/plain": [
       "{'_id': ObjectId('6459f955d944f530af491d0c'),\n",
       " 'author': 'Dave',\n",
       " 'age': 30,\n",
       " 'text': 'Hi Dave'}"
      ]
     },
     "execution_count": 113,
     "metadata": {},
     "output_type": "execute_result"
    }
   ],
   "source": [
    "it_col.find_one({\"author\":\"Dave\"})"
   ]
  },
  {
   "cell_type": "code",
   "execution_count": 114,
   "id": "51f1b517-5d08-42b5-8f8f-d532c8e25510",
   "metadata": {
    "tags": []
   },
   "outputs": [
    {
     "name": "stdout",
     "output_type": "stream",
     "text": [
      "<pymongo.results.UpdateResult object at 0x0000022448444BB0>\n"
     ]
    }
   ],
   "source": [
    "ck = it_col.update_one( { \"author\" : \"Dave\" }, \n",
    "    { \"$set\" : \n",
    "        { \"text\" : \"Hi Dave\" }\n",
    "    }\n",
    ")\n",
    "print(ck)"
   ]
  },
  {
   "cell_type": "code",
   "execution_count": 115,
   "id": "a60394f4-4ee2-446f-95b8-92bdeefb7727",
   "metadata": {
    "tags": []
   },
   "outputs": [],
   "source": [
    "docs = it_col.find({ \"author\":\"Dave\" })"
   ]
  },
  {
   "cell_type": "code",
   "execution_count": 116,
   "id": "66271c71-c24e-47e4-b01f-0f3bd411211a",
   "metadata": {
    "tags": []
   },
   "outputs": [
    {
     "name": "stdout",
     "output_type": "stream",
     "text": [
      "{'_id': ObjectId('6459f955d944f530af491d0c'), 'author': 'Dave', 'age': 30, 'text': 'Hi Dave'}\n",
      "{'_id': ObjectId('645a07afd944f530af491d19'), 'author': 'Dave', 'text': 'My first blog post!'}\n"
     ]
    }
   ],
   "source": [
    "for doc in docs:\n",
    "    print(doc)"
   ]
  },
  {
   "cell_type": "code",
   "execution_count": 117,
   "id": "2e72a486-f153-4bf6-9cae-bfab2c81c615",
   "metadata": {
    "tags": []
   },
   "outputs": [],
   "source": [
    "docs = it_col.find( {\"author\":\"Dave Lee\"} )"
   ]
  },
  {
   "cell_type": "code",
   "execution_count": 118,
   "id": "f71e752e-4cc5-4d86-8c84-7ac5705675b0",
   "metadata": {
    "tags": []
   },
   "outputs": [
    {
     "name": "stdout",
     "output_type": "stream",
     "text": [
      "{'_id': ObjectId('645a0a2bd944f530af491d1a'), 'author': 'Dave Lee', 'age': 45}\n",
      "{'_id': ObjectId('645a0a37d944f530af491d1b'), 'author': 'Dave Lee', 'age': 45}\n"
     ]
    }
   ],
   "source": [
    "for doc in docs:\n",
    "    print(doc)"
   ]
  },
  {
   "cell_type": "code",
   "execution_count": 112,
   "id": "d50b3d13-1868-4d55-9de7-7c165d419844",
   "metadata": {
    "tags": []
   },
   "outputs": [
    {
     "data": {
      "text/plain": [
       "<pymongo.results.InsertOneResult at 0x224484443d0>"
      ]
     },
     "execution_count": 112,
     "metadata": {},
     "output_type": "execute_result"
    }
   ],
   "source": [
    "it_col.insert_one( { \"author\":\"Dave Lee\", \"age\":45 } )"
   ]
  },
  {
   "cell_type": "code",
   "execution_count": 119,
   "id": "a9639210-02e7-4404-b185-96995f487f58",
   "metadata": {
    "tags": []
   },
   "outputs": [],
   "source": [
    "ck = it_col.update_many(\n",
    "    {\"author\": \"Dave Lee\"},\n",
    "    {\"$set\": { \"age\": 30}}\n",
    ")"
   ]
  },
  {
   "cell_type": "code",
   "execution_count": 121,
   "id": "1ebfe6c5-d65e-4c0a-bb5e-ac7b25dca1c3",
   "metadata": {
    "tags": []
   },
   "outputs": [
    {
     "name": "stdout",
     "output_type": "stream",
     "text": [
      "<pymongo.results.UpdateResult object at 0x0000022446BA1880>\n"
     ]
    }
   ],
   "source": [
    "print(ck)"
   ]
  },
  {
   "cell_type": "code",
   "execution_count": 122,
   "id": "f5810f89-6e70-4b04-9113-02e68b0078cd",
   "metadata": {
    "tags": []
   },
   "outputs": [],
   "source": [
    "docs = it_col.find( {\"author\":\"Dave Lee\"} )"
   ]
  },
  {
   "cell_type": "code",
   "execution_count": 123,
   "id": "47c155fd-4859-4360-9802-afeec970db0c",
   "metadata": {
    "tags": []
   },
   "outputs": [
    {
     "name": "stdout",
     "output_type": "stream",
     "text": [
      "{'_id': ObjectId('645a0a2bd944f530af491d1a'), 'author': 'Dave Lee', 'age': 30}\n",
      "{'_id': ObjectId('645a0a37d944f530af491d1b'), 'author': 'Dave Lee', 'age': 30}\n"
     ]
    }
   ],
   "source": [
    "for doc in docs:\n",
    "    print(doc)"
   ]
  },
  {
   "cell_type": "markdown",
   "id": "da2efff3-0838-4676-8e2d-51a76316b0ad",
   "metadata": {},
   "source": [
    "### Document 삭제\n",
    "- delete_one() : 결과값의 가장 첫번째 Document 삭제\n",
    "- delete_many() : 조건에 맞는 다수 Document 삭제"
   ]
  },
  {
   "cell_type": "code",
   "execution_count": 124,
   "id": "f685f1fe-0095-4f67-b7be-c12eb9dcadae",
   "metadata": {
    "tags": []
   },
   "outputs": [],
   "source": [
    "docs = it_col.find( {\"author\":\"Dave Lee\"} )"
   ]
  },
  {
   "cell_type": "code",
   "execution_count": 125,
   "id": "9887aa32-f7c6-45b9-8b79-d77d40afa4c2",
   "metadata": {
    "tags": []
   },
   "outputs": [
    {
     "name": "stdout",
     "output_type": "stream",
     "text": [
      "{'_id': ObjectId('645a0a2bd944f530af491d1a'), 'author': 'Dave Lee', 'age': 30}\n",
      "{'_id': ObjectId('645a0a37d944f530af491d1b'), 'author': 'Dave Lee', 'age': 30}\n"
     ]
    }
   ],
   "source": [
    "for doc in docs:\n",
    "    print(doc)"
   ]
  },
  {
   "cell_type": "code",
   "execution_count": 126,
   "id": "7a400b3c-f990-4599-9d65-822325c67e83",
   "metadata": {
    "tags": []
   },
   "outputs": [
    {
     "data": {
      "text/plain": [
       "<pymongo.results.DeleteResult at 0x2244798c9a0>"
      ]
     },
     "execution_count": 126,
     "metadata": {},
     "output_type": "execute_result"
    }
   ],
   "source": [
    "it_col.delete_one( {\"author\":\"Dave Lee\"} )"
   ]
  },
  {
   "cell_type": "code",
   "execution_count": 127,
   "id": "bbdb3fd6-f3c0-4637-aeef-2823c641f2e4",
   "metadata": {
    "tags": []
   },
   "outputs": [],
   "source": [
    "docs = it_col.find( {\"author\":\"Dave Lee\"} )"
   ]
  },
  {
   "cell_type": "code",
   "execution_count": 128,
   "id": "dec3b332-11b4-465f-b7f6-22e084a82386",
   "metadata": {
    "tags": []
   },
   "outputs": [
    {
     "name": "stdout",
     "output_type": "stream",
     "text": [
      "{'_id': ObjectId('645a0a37d944f530af491d1b'), 'author': 'Dave Lee', 'age': 30}\n"
     ]
    }
   ],
   "source": [
    "for doc in docs:\n",
    "    print(doc)"
   ]
  },
  {
   "cell_type": "code",
   "execution_count": 129,
   "id": "52246cf0-5af7-4e23-8ec0-76403020e6c0",
   "metadata": {
    "tags": []
   },
   "outputs": [
    {
     "data": {
      "text/plain": [
       "<pymongo.results.DeleteResult at 0x224488c2a60>"
      ]
     },
     "execution_count": 129,
     "metadata": {},
     "output_type": "execute_result"
    }
   ],
   "source": [
    "it_col.delete_many( {\"author\":\"Dave Lee\"} )"
   ]
  },
  {
   "cell_type": "code",
   "execution_count": 130,
   "id": "a947b71d-47f9-4ddb-9bd9-ee20c3dd1011",
   "metadata": {
    "tags": []
   },
   "outputs": [
    {
     "data": {
      "text/plain": [
       "0"
      ]
     },
     "execution_count": 130,
     "metadata": {},
     "output_type": "execute_result"
    }
   ],
   "source": [
    "it_col.count_documents( {\"author\":\"Dave Lee\"} )"
   ]
  },
  {
   "cell_type": "code",
   "execution_count": 131,
   "id": "f17c7d87-f014-48bd-93ac-87b2dce81179",
   "metadata": {
    "tags": []
   },
   "outputs": [],
   "source": [
    "import pymongo\n",
    "conn = pymongo.MongoClient()\n",
    "books = conn.books\n",
    "it_book = books.it_book"
   ]
  },
  {
   "cell_type": "code",
   "execution_count": 133,
   "id": "6c4ab1ac-e4fa-467e-abee-519bebcac1f0",
   "metadata": {
    "tags": []
   },
   "outputs": [],
   "source": [
    "datas = []\n",
    "for index in range(10):\n",
    "    datas.append({\"author\":\"Dave Lee\", \"publisher\":\"fun-coding.org\", \"number\": index })"
   ]
  },
  {
   "cell_type": "code",
   "execution_count": 134,
   "id": "fc737cfa-2862-4c3b-bbc0-fb7069878f74",
   "metadata": {
    "tags": []
   },
   "outputs": [
    {
     "data": {
      "text/plain": [
       "<pymongo.results.InsertManyResult at 0x224487f8940>"
      ]
     },
     "execution_count": 134,
     "metadata": {},
     "output_type": "execute_result"
    }
   ],
   "source": [
    "# CRUD - Create(Insert)\n",
    "it_book.insert_many(data)"
   ]
  },
  {
   "cell_type": "code",
   "execution_count": 135,
   "id": "95e2873f-4a3f-457b-9e34-12ecacdf012c",
   "metadata": {
    "tags": []
   },
   "outputs": [
    {
     "name": "stdout",
     "output_type": "stream",
     "text": [
      "{'_id': ObjectId('645a0179d944f530af491d12'), 'author': 'aaron', 'age': 20, 'gender': 'male'}\n",
      "{'_id': ObjectId('645a0179d944f530af491d13'), 'author': 'bob', 'age': 30, 'gender': 'male'}\n",
      "{'_id': ObjectId('645a0179d944f530af491d14'), 'author': 'cathy', 'age': 25, 'gender': 'female'}\n",
      "{'_id': ObjectId('645a0179d944f530af491d15'), 'author': 'david', 'age': 27, 'gender': 'male'}\n",
      "{'_id': ObjectId('645a0179d944f530af491d16'), 'author': 'erick', 'age': 28, 'gender': 'female'}\n",
      "{'_id': ObjectId('645a0179d944f530af491d17'), 'author': 'fox', 'age': 32, 'gender': 'male'}\n",
      "{'_id': ObjectId('645a0179d944f530af491d18'), 'author': 'hmm', 'age': 50, 'gender': 'female'}\n"
     ]
    }
   ],
   "source": [
    "# CRUD - Read\n",
    "docs = it_book.find()\n",
    "for doc in docs:\n",
    "    print (doc)"
   ]
  },
  {
   "cell_type": "code",
   "execution_count": 136,
   "id": "2cf3cba0-8348-4ea5-b581-246cf48b86ba",
   "metadata": {
    "tags": []
   },
   "outputs": [
    {
     "data": {
      "text/plain": [
       "<pymongo.results.UpdateResult at 0x22448444e80>"
      ]
     },
     "execution_count": 136,
     "metadata": {},
     "output_type": "execute_result"
    }
   ],
   "source": [
    "# CRUD - Update\n",
    "it_book.update_many( {}, { \"$set\": { \"publisher\":\"www.fun-coding.org\"} } )"
   ]
  },
  {
   "cell_type": "code",
   "execution_count": 137,
   "id": "9b408af8-4292-4b71-b677-968c811b07fa",
   "metadata": {
    "tags": []
   },
   "outputs": [
    {
     "name": "stdout",
     "output_type": "stream",
     "text": [
      "{'_id': ObjectId('645a0179d944f530af491d12'), 'author': 'aaron', 'age': 20, 'gender': 'male', 'publisher': 'www.fun-coding.org'}\n",
      "{'_id': ObjectId('645a0179d944f530af491d13'), 'author': 'bob', 'age': 30, 'gender': 'male', 'publisher': 'www.fun-coding.org'}\n",
      "{'_id': ObjectId('645a0179d944f530af491d14'), 'author': 'cathy', 'age': 25, 'gender': 'female', 'publisher': 'www.fun-coding.org'}\n",
      "{'_id': ObjectId('645a0179d944f530af491d15'), 'author': 'david', 'age': 27, 'gender': 'male', 'publisher': 'www.fun-coding.org'}\n",
      "{'_id': ObjectId('645a0179d944f530af491d16'), 'author': 'erick', 'age': 28, 'gender': 'female', 'publisher': 'www.fun-coding.org'}\n",
      "{'_id': ObjectId('645a0179d944f530af491d17'), 'author': 'fox', 'age': 32, 'gender': 'male', 'publisher': 'www.fun-coding.org'}\n",
      "{'_id': ObjectId('645a0179d944f530af491d18'), 'author': 'hmm', 'age': 50, 'gender': 'female', 'publisher': 'www.fun-coding.org'}\n"
     ]
    }
   ],
   "source": [
    "# CRUD - Read\n",
    "docs = it_book.find({\"publisher\":\"www.fun-coding.org\"})\n",
    "for doc in docs:\n",
    "    print (doc)"
   ]
  },
  {
   "cell_type": "code",
   "execution_count": 139,
   "id": "5ba4873f-7a3c-4ede-88eb-d6b182f4481a",
   "metadata": {
    "tags": []
   },
   "outputs": [
    {
     "data": {
      "text/plain": [
       "<pymongo.results.DeleteResult at 0x224488be040>"
      ]
     },
     "execution_count": 139,
     "metadata": {},
     "output_type": "execute_result"
    }
   ],
   "source": [
    "it_book.delete_many({\n",
    "    \"number\": {\"$gte\": 6}\n",
    "    })"
   ]
  },
  {
   "cell_type": "code",
   "execution_count": 140,
   "id": "a4fc4720-577e-4285-b7a2-fa34d27a9fc9",
   "metadata": {
    "tags": []
   },
   "outputs": [
    {
     "name": "stdout",
     "output_type": "stream",
     "text": [
      "{'_id': ObjectId('645a0179d944f530af491d12'), 'author': 'aaron', 'age': 20, 'gender': 'male', 'publisher': 'www.fun-coding.org'}\n",
      "{'_id': ObjectId('645a0179d944f530af491d13'), 'author': 'bob', 'age': 30, 'gender': 'male', 'publisher': 'www.fun-coding.org'}\n",
      "{'_id': ObjectId('645a0179d944f530af491d14'), 'author': 'cathy', 'age': 25, 'gender': 'female', 'publisher': 'www.fun-coding.org'}\n",
      "{'_id': ObjectId('645a0179d944f530af491d15'), 'author': 'david', 'age': 27, 'gender': 'male', 'publisher': 'www.fun-coding.org'}\n",
      "{'_id': ObjectId('645a0179d944f530af491d16'), 'author': 'erick', 'age': 28, 'gender': 'female', 'publisher': 'www.fun-coding.org'}\n",
      "{'_id': ObjectId('645a0179d944f530af491d17'), 'author': 'fox', 'age': 32, 'gender': 'male', 'publisher': 'www.fun-coding.org'}\n",
      "{'_id': ObjectId('645a0179d944f530af491d18'), 'author': 'hmm', 'age': 50, 'gender': 'female', 'publisher': 'www.fun-coding.org'}\n"
     ]
    }
   ],
   "source": [
    "# CRUD - Read\n",
    "docs = it_book.find()\n",
    "for doc in docs:\n",
    "    print (doc)"
   ]
  }
 ],
 "metadata": {
  "kernelspec": {
   "display_name": "pymongo",
   "language": "python",
   "name": "pymg_venv"
  },
  "language_info": {
   "codemirror_mode": {
    "name": "ipython",
    "version": 3
   },
   "file_extension": ".py",
   "mimetype": "text/x-python",
   "name": "python",
   "nbconvert_exporter": "python",
   "pygments_lexer": "ipython3",
   "version": "3.9.13"
  }
 },
 "nbformat": 4,
 "nbformat_minor": 5
}
